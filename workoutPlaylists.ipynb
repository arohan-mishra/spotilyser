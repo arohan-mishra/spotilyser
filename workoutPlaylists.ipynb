{
  "nbformat": 4,
  "nbformat_minor": 0,
  "metadata": {
    "colab": {
      "provenance": [],
      "collapsed_sections": [],
      "authorship_tag": "ABX9TyNPH5KB/h+Ud9pHOpFwN0iO",
      "include_colab_link": true
    },
    "kernelspec": {
      "name": "python3",
      "display_name": "Python 3"
    },
    "language_info": {
      "name": "python"
    }
  },
  "cells": [
    {
      "cell_type": "markdown",
      "metadata": {
        "id": "view-in-github",
        "colab_type": "text"
      },
      "source": [
        "<a href=\"https://colab.research.google.com/github/arohan-mishra/spotilyser/blob/main/workoutPlaylists.ipynb\" target=\"_parent\"><img src=\"https://colab.research.google.com/assets/colab-badge.svg\" alt=\"Open In Colab\"/></a>"
      ]
    },
    {
      "cell_type": "markdown",
      "source": [
        "# Generating an Access token for the Spotify API"
      ],
      "metadata": {
        "id": "M8h-KPYW7h5M"
      }
    },
    {
      "cell_type": "code",
      "execution_count": 2,
      "metadata": {
        "id": "PypYY3vdGk7Z"
      },
      "outputs": [],
      "source": [
        "import requests"
      ]
    },
    {
      "cell_type": "code",
      "source": [
        "def getAccessToken():\n",
        "    auth_url = 'https://accounts.spotify.com/api/token'\n",
        "    clientID = \"204d99eaea4044d08a4d5c06444cb58a\"\n",
        "    clientSecret = \"ac11837bbd6e410da35bcbd3a1b05a7c\"\n",
        "\n",
        "    data = {\n",
        "        'grant_type': 'client_credentials',\n",
        "        'client_id': clientID,\n",
        "        'client_secret': clientSecret,\n",
        "    }\n",
        "\n",
        "    auth_response = requests.post(auth_url, data = data)\n",
        "    access_token = auth_response.json().get('access_token')\n",
        "    return access_token\n",
        "    #return \"BQD01wfvb21ukQZcVEThpShUrXoozCfV_3wyH_WiFhmNfdTulGSFFPGU_yZH48PpSIFs-Xvrt94EkRxIp1psbvgk_brMVQz4PKKwdVZw6Mqgm7Tz4GQT3MKb-rgj0stK_9kHSqxZVgW04eOELN0A_I-gH5PIgyTXB6oFWuSnL6BrZTRpS1a7cqkAiK4LCQA\""
      ],
      "metadata": {
        "id": "Ct565UdnHAlD"
      },
      "execution_count": 77,
      "outputs": []
    },
    {
      "cell_type": "markdown",
      "source": [
        "# Retrieving the user's playlists and songs"
      ],
      "metadata": {
        "id": "YoQy-oRI9MzN"
      }
    },
    {
      "cell_type": "code",
      "source": [
        "def getPlaylistIDs():\n",
        "  endpoint = \"https://api.spotify.com/v1/me/playlists\"\n",
        "\n",
        "  headers = {\n",
        "        'Authorization': 'Bearer {}'.format(getAccessToken())\n",
        "    }\n",
        "\n",
        "  response = requests.get(endpoint, headers = headers)\n",
        "  print(response)\n",
        "  ids = []\n",
        "  for i in response.json().get('items'):\n",
        "    ids.append(i.get('id'))\n",
        "  return ids#response.json().get('items')[0].get(\"id\")\n",
        "\n",
        "getPlaylistIDs()"
      ],
      "metadata": {
        "colab": {
          "base_uri": "https://localhost:8080/"
        },
        "id": "PZgJjN21IX5B",
        "outputId": "af6f2c10-7a75-4c73-8752-4cafe0d21080"
      },
      "execution_count": 80,
      "outputs": [
        {
          "output_type": "stream",
          "name": "stdout",
          "text": [
            "<Response [200]>\n"
          ]
        },
        {
          "output_type": "execute_result",
          "data": {
            "text/plain": [
              "['4VTeT2ZdbU4xfgyGsmwI7l',\n",
              " '5rW06KzVCKArEHK3zlCcAf',\n",
              " '22BHHSq0RQtZr4FgoZnMHg',\n",
              " '0Gl2PeYGkXG5ZtmOkFy4cx',\n",
              " '2gTggbZGwFWR2MO9J4Sxpj',\n",
              " '3yqe4Ox1kinFsiqfGDnNiV',\n",
              " '4E1Fyzfpapkqz2RfD4qjph',\n",
              " '09zXutta5pMZzuSPrUVmDH',\n",
              " '7imRhFYoV3njlgKSCvW5ps',\n",
              " '3uA0o9l7L4VTnA0JTj48to',\n",
              " '0tJIQyNcvQ6UIXZWSt3diG',\n",
              " '6xAMLeljjVEoNKjtOmReEW',\n",
              " '5ojzeX3TjQwwCx3jyJ7qBN',\n",
              " '1QvFWtb47k8697DEOwMlbj',\n",
              " '37i9dQZF1EUMDoJuT8yJsl',\n",
              " '1IbFOJr2ftUHeb3blv6ED8',\n",
              " '2Mhpch8ITE11Bu6NGhuP9D',\n",
              " '4y14qhh02ZaW41SJSosoCD',\n",
              " '6F8CWzsYasQC90ybtU5MIa',\n",
              " '4fu827ZysmbbfZ4LM7Foo4']"
            ]
          },
          "metadata": {},
          "execution_count": 80
        }
      ]
    },
    {
      "cell_type": "code",
      "source": [
        "def getPlaylistItems(id):\n",
        "  endpoint = \"https://api.spotify.com/v1/playlists/\" + str(id) + \"/tracks\"\n",
        "\n",
        "  headers = {\n",
        "        'Authorization': 'Bearer {}'.format(getAccessToken())\n",
        "    }\n",
        "\n",
        "  response = requests.get(endpoint, headers = headers)\n",
        "  # print(response)\n",
        "  ids = []\n",
        "  for i in response.json().get('items'):\n",
        "    ids.append(i.get('track').get(\"id\"))\n",
        "  return ids#response.json().get('items')[0].get('track').get(\"id\")\n",
        "\n",
        "allSongs = list(map(getPlaylistItems, getPlaylistIDs())) #getPlaylistItems(\"0Gl2PeYGkXG5ZtmOkFy4cx\")"
      ],
      "metadata": {
        "colab": {
          "base_uri": "https://localhost:8080/"
        },
        "id": "HdpxaUvWPerO",
        "outputId": "b52a6b3d-11c5-4364-bc3a-b544ce546dcd"
      },
      "execution_count": 81,
      "outputs": [
        {
          "output_type": "stream",
          "name": "stdout",
          "text": [
            "<Response [200]>\n"
          ]
        }
      ]
    },
    {
      "cell_type": "code",
      "source": [
        "#a contains all the songs of the user\n",
        "a = []\n",
        "for i in allSongs:\n",
        "    for j in i:\n",
        "      a.append(j)"
      ],
      "metadata": {
        "id": "aot6jAjYSlRx"
      },
      "execution_count": null,
      "outputs": []
    },
    {
      "cell_type": "code",
      "source": [
        "len(a)"
      ],
      "metadata": {
        "colab": {
          "base_uri": "https://localhost:8080/"
        },
        "id": "N2kHj01hdZjo",
        "outputId": "baa4a6e8-b46b-448a-895d-74e334df1715"
      },
      "execution_count": 96,
      "outputs": [
        {
          "output_type": "execute_result",
          "data": {
            "text/plain": [
              "1345"
            ]
          },
          "metadata": {},
          "execution_count": 96
        }
      ]
    },
    {
      "cell_type": "markdown",
      "source": [
        "# Filtering songs with tempo more than 175"
      ],
      "metadata": {
        "id": "g4HUa-Kg_oPt"
      }
    },
    {
      "cell_type": "code",
      "source": [
        "def getSongTempo(id):\n",
        "  endpoint = \"https://api.spotify.com/v1/audio-features/\" + id\n",
        "\n",
        "  headers = {\n",
        "        'Authorization': 'Bearer {}'.format(getAccessToken())\n",
        "    }\n",
        "\n",
        "  response = requests.get(endpoint, headers = headers)\n",
        "\n",
        "  return response.json().get('tempo')\n",
        "\n",
        "getSongTempo('3Ye0p2mpBSyOW4ewtnvX3w')"
      ],
      "metadata": {
        "colab": {
          "base_uri": "https://localhost:8080/"
        },
        "id": "I4ylTir7HQYU",
        "outputId": "3705e958-6c6c-444a-ec64-3e1f26e97eb3"
      },
      "execution_count": 79,
      "outputs": [
        {
          "output_type": "execute_result",
          "data": {
            "text/plain": [
              "83.971"
            ]
          },
          "metadata": {},
          "execution_count": 79
        }
      ]
    },
    {
      "cell_type": "code",
      "source": [
        "tempos = {}\n",
        "for i in a:\n",
        "  k = getSongTempo(i)\n",
        "  if k is not None:\n",
        "    if k > 175:\n",
        "      tempos[i] = k\n",
        "  else:\n",
        "    continue\n",
        "# for i in allSongs:\n",
        "#   tempos[i] = getSongTempo(i)\n",
        "  \n",
        "# tempos.values()"
      ],
      "metadata": {
        "id": "Lgq1spMxZFRM"
      },
      "execution_count": 98,
      "outputs": []
    },
    {
      "cell_type": "code",
      "source": [
        "tempos"
      ],
      "metadata": {
        "colab": {
          "base_uri": "https://localhost:8080/"
        },
        "id": "520T6yyVgwLf",
        "outputId": "fa019548-88c1-4650-be53-984e42dfee25"
      },
      "execution_count": 99,
      "outputs": [
        {
          "output_type": "execute_result",
          "data": {
            "text/plain": [
              "{'3yV2c3cYhkAwSsxAq6nRiv': 191.827,\n",
              " '2b2HutIDmoeBnnKRWDLAtV': 199.807,\n",
              " '4btFHqumCO31GksfuBLLv3': 175.908,\n",
              " '7MXVkk9YMctZqd1Srtv4MB': 186.003,\n",
              " '6rjtB7KSIiJ6v9vrACMlqF': 183.991,\n",
              " '2xwIDFDIyN91V7Mz72ILsa': 201.99,\n",
              " '3VEwy927d2YEqnNqP6xwfk': 179.894,\n",
              " '4CebKGVZUJw18tnDzsjv2d': 180.056,\n",
              " '6ts1KCOudfDYXYfyWtq0k1': 207.906,\n",
              " '28MATCYDctW5EiBa2repxb': 175.064,\n",
              " '6EzZn96uOc9JsVGNRpx06n': 178.069,\n",
              " '3IDF7N86lrcWaJEt9C1gbS': 199.844,\n",
              " '2sf18cEv463VgqmdjDsFpw': 180.002,\n",
              " '6mjwQio9tvr6ljgpHvgJm9': 176.446,\n",
              " '7pKo3vzmrlG2KcRVqzdoA5': 195.926,\n",
              " '5i4q6tlmlRQHhgFIKWIfrm': 180.001,\n",
              " '4R5yVjajdiX8m1EYhG0Yml': 176.815,\n",
              " '2hyfrxAidkUWQ8z0AbcvO0': 187.997,\n",
              " '6mUcRzBXfuEzBxC5Lflnwu': 180.052,\n",
              " '6eB5y7GZrfjCVpK1fjku3Q': 182.018,\n",
              " '29OndNHNt4cyEm0CzpKRkG': 189.558,\n",
              " '5szAn4BrPyRmXQfGKbTcUX': 182.647,\n",
              " '359ofvoEja4de0XjzUL3D5': 178.596,\n",
              " '1hi0P1Y2he1p09xnUccuAN': 177.956,\n",
              " '6mQhKWLJr423guuVHsl3z2': 178.066,\n",
              " '3JSkvybmW1CtuJjUhv1OaP': 178.035,\n",
              " '4ATrjNUnSvzskzN3HF8cPR': 189.92,\n",
              " '2SrAPLLBpIzVv7y1Cng63K': 188.014,\n",
              " '43pyNdu9Ps3fANdErq6nqX': 176.097,\n",
              " '0NlGoUyOJSuSHmngoibVAs': 187.376,\n",
              " '4nvLuqwTOZdEJI1fcHXv8h': 182.161,\n",
              " '5rCHluRq4hQTOB8A3IvgC9': 176.53,\n",
              " '5BpmwiKR6ns1EtfCQRpNUc': 182.082}"
            ]
          },
          "metadata": {},
          "execution_count": 99
        }
      ]
    },
    {
      "cell_type": "markdown",
      "source": [
        "# Creating a playlist with the above songs"
      ],
      "metadata": {
        "id": "FCBmOMGUAe8W"
      }
    },
    {
      "cell_type": "code",
      "source": [
        "def createPlaylist(playlistID, songs):\n",
        "  endpoint = \"https://api.spotify.com/v1/playlists/\" + str(playlistID) + \"/tracks?uris=\"\n",
        "\n",
        "  songPayload = \"spotify%3Atrack%3A\" + \"%2Cspotify%3Atrack%3A\".join(songs)\n",
        "\n",
        "  #token = \"BQCE042mWdiWVFXTDGCFPVVwoBCt5w6LPaSRRDjgLJO4wODsLQy-PYKjLnuJymO_l86CM-hQ70RDi4C_7vDq1dPO1Jx-AzKB-8fZe22SyVh7WeFXUsVKnHiQPrwNxi4HPjxUEFoGQKvfFyldPK9nImutAsuJscZZZS1lsRq0uFzM0PUxP2lGaq7gFAuK1YClB8C0OxT_HSeTfHcLu3Wo20EkCruVRZ72Jo796M_RtlCcrufP0R-IRqLgBrs9\"\n",
        "\n",
        "  headers = {\n",
        "        'Authorization': 'Bearer {}'.format(getAccessToken())\n",
        "    }\n",
        "\n",
        "  response = requests.get(endpoint + songPayload, headers = headers)\n",
        "\n",
        "  return response.json()\n",
        "createPlaylist(\"2FbOUbrVb8Ys8qFRYvchcB\", list(tempos.keys()))"
      ],
      "metadata": {
        "colab": {
          "base_uri": "https://localhost:8080/"
        },
        "id": "YfDZ3XYSn5Kv",
        "outputId": "16545ebe-50f8-4fb1-826a-5b37da871ee0"
      },
      "execution_count": 104,
      "outputs": [
        {
          "output_type": "execute_result",
          "data": {
            "text/plain": [
              "{'href': 'https://api.spotify.com/v1/playlists/2FbOUbrVb8Ys8qFRYvchcB/tracks?offset=0&limit=100',\n",
              " 'items': [],\n",
              " 'limit': 100,\n",
              " 'next': None,\n",
              " 'offset': 0,\n",
              " 'previous': None,\n",
              " 'total': 0}"
            ]
          },
          "metadata": {},
          "execution_count": 104
        }
      ]
    },
    {
      "cell_type": "code",
      "source": [
        "songs = list(tempos.keys())\n",
        "songPayload"
      ],
      "metadata": {
        "colab": {
          "base_uri": "https://localhost:8080/",
          "height": 145
        },
        "id": "ERbc1LMoq5qu",
        "outputId": "cde5b473-1312-46fe-faa2-fc6e66d123d0"
      },
      "execution_count": 102,
      "outputs": [
        {
          "output_type": "execute_result",
          "data": {
            "text/plain": [
              "'spotify%3Atrack%3A3yV2c3cYhkAwSsxAq6nRiv%2Cspotify%3Atrack%3A2b2HutIDmoeBnnKRWDLAtV%2Cspotify%3Atrack%3A4btFHqumCO31GksfuBLLv3%2Cspotify%3Atrack%3A7MXVkk9YMctZqd1Srtv4MB%2Cspotify%3Atrack%3A6rjtB7KSIiJ6v9vrACMlqF%2Cspotify%3Atrack%3A2xwIDFDIyN91V7Mz72ILsa%2Cspotify%3Atrack%3A3VEwy927d2YEqnNqP6xwfk%2Cspotify%3Atrack%3A4CebKGVZUJw18tnDzsjv2d%2Cspotify%3Atrack%3A6ts1KCOudfDYXYfyWtq0k1%2Cspotify%3Atrack%3A28MATCYDctW5EiBa2repxb%2Cspotify%3Atrack%3A6EzZn96uOc9JsVGNRpx06n%2Cspotify%3Atrack%3A3IDF7N86lrcWaJEt9C1gbS%2Cspotify%3Atrack%3A2sf18cEv463VgqmdjDsFpw%2Cspotify%3Atrack%3A6mjwQio9tvr6ljgpHvgJm9%2Cspotify%3Atrack%3A7pKo3vzmrlG2KcRVqzdoA5%2Cspotify%3Atrack%3A5i4q6tlmlRQHhgFIKWIfrm%2Cspotify%3Atrack%3A4R5yVjajdiX8m1EYhG0Yml%2Cspotify%3Atrack%3A2hyfrxAidkUWQ8z0AbcvO0%2Cspotify%3Atrack%3A6mUcRzBXfuEzBxC5Lflnwu%2Cspotify%3Atrack%3A6eB5y7GZrfjCVpK1fjku3Q%2Cspotify%3Atrack%3A29OndNHNt4cyEm0CzpKRkG%2Cspotify%3Atrack%3A5szAn4BrPyRmXQfGKbTcUX%2Cspotify%3Atrack%3A359ofvoEja4de0XjzUL3D5%2Cspotify%3Atrack%3A1hi0P1Y2he1p09xnUccuAN%2Cspotify%3Atrack%3A6mQhKWLJr423guuVHsl3z2%2Cspotify%3Atrack%3A3JSkvybmW1CtuJjUhv1OaP%2Cspotify%3Atrack%3A4ATrjNUnSvzskzN3HF8cPR%2Cspotify%3Atrack%3A2SrAPLLBpIzVv7y1Cng63K%2Cspotify%3Atrack%3A43pyNdu9Ps3fANdErq6nqX%2Cspotify%3Atrack%3A0NlGoUyOJSuSHmngoibVAs%2Cspotify%3Atrack%3A4nvLuqwTOZdEJI1fcHXv8h%2Cspotify%3Atrack%3A5rCHluRq4hQTOB8A3IvgC9%2Cspotify%3Atrack%3A5BpmwiKR6ns1EtfCQRpNUc'"
            ],
            "application/vnd.google.colaboratory.intrinsic+json": {
              "type": "string"
            }
          },
          "metadata": {},
          "execution_count": 102
        }
      ]
    }
  ]
}