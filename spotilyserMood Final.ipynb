{
 "cells": [
  {
   "cell_type": "markdown",
   "metadata": {},
   "source": [
    "# Spotilyser: Mood Prediction based on user's Spotify Listening History"
   ]
  },
  {
   "cell_type": "code",
   "execution_count": 1,
   "metadata": {
    "id": "M5zMuwaoZapI"
   },
   "outputs": [],
   "source": [
    "import requests\n",
    "import pandas as pd"
   ]
  },
  {
   "cell_type": "markdown",
   "metadata": {},
   "source": [
    "### Generate an access token to use the API"
   ]
  },
  {
   "cell_type": "code",
   "execution_count": 2,
   "metadata": {
    "id": "XUhUypPmZhP0"
   },
   "outputs": [],
   "source": [
    "def getAccessToken():\n",
    "    auth_url = 'https://accounts.spotify.com/api/token'\n",
    "    clientID = \"204d99eaea4044d08a4d5c06444cb58a\"\n",
    "    clientSecret = \"ac11837bbd6e410da35bcbd3a1b05a7c\"\n",
    "\n",
    "    data = {\n",
    "        'grant_type': 'client_credentials',\n",
    "        'client_id': clientID,\n",
    "        'client_secret': clientSecret,\n",
    "    }\n",
    "\n",
    "    auth_response = requests.post(auth_url, data = data)\n",
    "    access_token = auth_response.json().get('access_token')\n",
    "    return access_token"
   ]
  },
  {
   "cell_type": "markdown",
   "metadata": {},
   "source": [
    "### Getting the audio features of a song given its name"
   ]
  },
  {
   "cell_type": "code",
   "execution_count": 3,
   "metadata": {
    "colab": {
     "base_uri": "https://localhost:8080/",
     "height": 36
    },
    "id": "cVyVWUZmcWd0",
    "outputId": "7a8d86e0-687d-4d4a-b0e0-e44d95947332"
   },
   "outputs": [
    {
     "data": {
      "text/plain": [
       "'7fBv7CLKzipRk6EC6TWHOB'"
      ]
     },
     "execution_count": 3,
     "metadata": {},
     "output_type": "execute_result"
    }
   ],
   "source": [
    "def getAudioID(name):\n",
    "  endpoint = \"https://api.spotify.com/v1/search?q=track:\" + name + \"&type=track\"\n",
    "\n",
    "  headers = {\n",
    "        'Authorization': 'Bearer {}'.format(getAccessToken())\n",
    "    }\n",
    "\n",
    "  response = requests.get(endpoint, headers = headers)\n",
    "  if len(response.json().get('tracks').get('items')) != 0 and response.json() is not None:\n",
    "    return response.json().get('tracks').get('items')[0].get('id')\n",
    "  else:\n",
    "    return 'noIDfound'\n",
    "  # print(response.json())\n",
    "\n",
    "getAudioID(\"The Hills\")"
   ]
  },
  {
   "cell_type": "code",
   "execution_count": 4,
   "metadata": {
    "colab": {
     "base_uri": "https://localhost:8080/"
    },
    "id": "tz4RTrJ_bD3h",
    "outputId": "e5e52e07-63c5-4058-ef6d-8b967811e7aa"
   },
   "outputs": [
    {
     "data": {
      "text/plain": [
       "{'danceability': 0.585,\n",
       " 'energy': 0.564,\n",
       " 'key': 0,\n",
       " 'loudness': -7.063,\n",
       " 'mode': 0,\n",
       " 'speechiness': 0.0515,\n",
       " 'acousticness': 0.0671,\n",
       " 'instrumentalness': 0,\n",
       " 'liveness': 0.135,\n",
       " 'valence': 0.137,\n",
       " 'tempo': 113.003,\n",
       " 'type': 'audio_features',\n",
       " 'id': '7fBv7CLKzipRk6EC6TWHOB',\n",
       " 'uri': 'spotify:track:7fBv7CLKzipRk6EC6TWHOB',\n",
       " 'track_href': 'https://api.spotify.com/v1/tracks/7fBv7CLKzipRk6EC6TWHOB',\n",
       " 'analysis_url': 'https://api.spotify.com/v1/audio-analysis/7fBv7CLKzipRk6EC6TWHOB',\n",
       " 'duration_ms': 242253,\n",
       " 'time_signature': 4}"
      ]
     },
     "execution_count": 4,
     "metadata": {},
     "output_type": "execute_result"
    }
   ],
   "source": [
    "def getAudioFeatures(id):\n",
    "  endpoint = \"https://api.spotify.com/v1/audio-features/\" + id\n",
    "\n",
    "  headers = {\n",
    "        'Authorization': 'Bearer {}'.format(getAccessToken())\n",
    "    }\n",
    "\n",
    "  response = requests.get(endpoint, headers = headers)\n",
    "\n",
    "  return response.json()\n",
    "\n",
    "getAudioFeatures('7fBv7CLKzipRk6EC6TWHOB')"
   ]
  },
  {
   "cell_type": "markdown",
   "metadata": {},
   "source": [
    "### Loading the StreamingHistory files and create a dataframe with each song's audio features"
   ]
  },
  {
   "cell_type": "code",
   "execution_count": 5,
   "metadata": {
    "colab": {
     "base_uri": "https://localhost:8080/",
     "height": 206
    },
    "id": "ruZISBtMfYoU",
    "outputId": "0b672b90-ea4f-4338-fa84-72664c5c5270"
   },
   "outputs": [
    {
     "data": {
      "text/html": [
       "<div>\n",
       "<style scoped>\n",
       "    .dataframe tbody tr th:only-of-type {\n",
       "        vertical-align: middle;\n",
       "    }\n",
       "\n",
       "    .dataframe tbody tr th {\n",
       "        vertical-align: top;\n",
       "    }\n",
       "\n",
       "    .dataframe thead th {\n",
       "        text-align: right;\n",
       "    }\n",
       "</style>\n",
       "<table border=\"1\" class=\"dataframe\">\n",
       "  <thead>\n",
       "    <tr style=\"text-align: right;\">\n",
       "      <th></th>\n",
       "      <th>endTime</th>\n",
       "      <th>artistName</th>\n",
       "      <th>trackName</th>\n",
       "      <th>msPlayed</th>\n",
       "    </tr>\n",
       "  </thead>\n",
       "  <tbody>\n",
       "    <tr>\n",
       "      <th>0</th>\n",
       "      <td>2022-02-08 19:42</td>\n",
       "      <td>The Weeknd</td>\n",
       "      <td>The Morning</td>\n",
       "      <td>312426</td>\n",
       "    </tr>\n",
       "    <tr>\n",
       "      <th>1</th>\n",
       "      <td>2022-02-08 19:45</td>\n",
       "      <td>The Weeknd</td>\n",
       "      <td>Sacrifice</td>\n",
       "      <td>188918</td>\n",
       "    </tr>\n",
       "    <tr>\n",
       "      <th>2</th>\n",
       "      <td>2022-02-08 19:50</td>\n",
       "      <td>The Weeknd</td>\n",
       "      <td>Faith</td>\n",
       "      <td>283226</td>\n",
       "    </tr>\n",
       "    <tr>\n",
       "      <th>3</th>\n",
       "      <td>2022-02-08 19:55</td>\n",
       "      <td>The Weeknd</td>\n",
       "      <td>Wicked Games</td>\n",
       "      <td>323746</td>\n",
       "    </tr>\n",
       "    <tr>\n",
       "      <th>4</th>\n",
       "      <td>2022-02-08 20:00</td>\n",
       "      <td>Lana Del Rey</td>\n",
       "      <td>Lust For Life (with The Weeknd)</td>\n",
       "      <td>264066</td>\n",
       "    </tr>\n",
       "  </tbody>\n",
       "</table>\n",
       "</div>"
      ],
      "text/plain": [
       "            endTime    artistName                        trackName  msPlayed\n",
       "0  2022-02-08 19:42    The Weeknd                      The Morning    312426\n",
       "1  2022-02-08 19:45    The Weeknd                        Sacrifice    188918\n",
       "2  2022-02-08 19:50    The Weeknd                            Faith    283226\n",
       "3  2022-02-08 19:55    The Weeknd                     Wicked Games    323746\n",
       "4  2022-02-08 20:00  Lana Del Rey  Lust For Life (with The Weeknd)    264066"
      ]
     },
     "execution_count": 5,
     "metadata": {},
     "output_type": "execute_result"
    }
   ],
   "source": [
    "# df1 = pd.read_json(\"StreamingHistory0.json\", encoding='utf-8')\n",
    "# df2 = pd.read_json(\"StreamingHistory1.json\", encoding='utf-8')\n",
    "# df3 = pd.read_json(\"StreamingHistory2.json\", encoding='utf-8')\n",
    "# df4 = pd.read_json(\"StreamingHistory3.json\", encoding='utf-8')\n",
    "df5 = pd.read_json(\"StreamingHistory4.json\", encoding='utf-8')\n",
    "df = pd.concat([df5], ignore_index=True)\n",
    "df.head()"
   ]
  },
  {
   "cell_type": "code",
   "execution_count": 8,
   "metadata": {
    "colab": {
     "base_uri": "https://localhost:8080/"
    },
    "id": "h3Misx6diuTp",
    "outputId": "729986a1-c0e8-46fb-d0d9-d9e3abfdbd37"
   },
   "outputs": [
    {
     "name": "stdout",
     "output_type": "stream",
     "text": [
      "500\n"
     ]
    }
   ],
   "source": [
    "tracks = df['trackName'].tolist()\n",
    "audioFeatures = list(map(getAudioFeatures, list(map(getAudioID, tracks[0:500]))))\n",
    "print(len(audioFeatures))"
   ]
  },
  {
   "cell_type": "code",
   "execution_count": 9,
   "metadata": {
    "colab": {
     "base_uri": "https://localhost:8080/",
     "height": 206
    },
    "id": "nS4mjtixmdA9",
    "outputId": "14687f90-823f-4d31-e6b8-46f315ca53ff"
   },
   "outputs": [
    {
     "data": {
      "text/html": [
       "<div>\n",
       "<style scoped>\n",
       "    .dataframe tbody tr th:only-of-type {\n",
       "        vertical-align: middle;\n",
       "    }\n",
       "\n",
       "    .dataframe tbody tr th {\n",
       "        vertical-align: top;\n",
       "    }\n",
       "\n",
       "    .dataframe thead th {\n",
       "        text-align: right;\n",
       "    }\n",
       "</style>\n",
       "<table border=\"1\" class=\"dataframe\">\n",
       "  <thead>\n",
       "    <tr style=\"text-align: right;\">\n",
       "      <th></th>\n",
       "      <th>Song</th>\n",
       "      <th>Acousticness</th>\n",
       "      <th>Danceability</th>\n",
       "      <th>Liveness</th>\n",
       "      <th>Loudness</th>\n",
       "      <th>Speechiness</th>\n",
       "      <th>Valence</th>\n",
       "      <th>Tempo</th>\n",
       "    </tr>\n",
       "  </thead>\n",
       "  <tbody>\n",
       "    <tr>\n",
       "      <th>0</th>\n",
       "      <td>The Morning</td>\n",
       "      <td>0.31700</td>\n",
       "      <td>0.652</td>\n",
       "      <td>0.1040</td>\n",
       "      <td>-7.555</td>\n",
       "      <td>0.0390</td>\n",
       "      <td>0.186</td>\n",
       "      <td>120.073</td>\n",
       "    </tr>\n",
       "    <tr>\n",
       "      <th>1</th>\n",
       "      <td>Sacrifice</td>\n",
       "      <td>0.02960</td>\n",
       "      <td>0.735</td>\n",
       "      <td>0.0678</td>\n",
       "      <td>-6.523</td>\n",
       "      <td>0.1130</td>\n",
       "      <td>0.905</td>\n",
       "      <td>122.000</td>\n",
       "    </tr>\n",
       "    <tr>\n",
       "      <th>2</th>\n",
       "      <td>Faith</td>\n",
       "      <td>0.09790</td>\n",
       "      <td>0.202</td>\n",
       "      <td>0.1090</td>\n",
       "      <td>-5.212</td>\n",
       "      <td>0.0324</td>\n",
       "      <td>0.252</td>\n",
       "      <td>85.040</td>\n",
       "    </tr>\n",
       "    <tr>\n",
       "      <th>3</th>\n",
       "      <td>Wicked Games</td>\n",
       "      <td>0.00959</td>\n",
       "      <td>0.658</td>\n",
       "      <td>0.3250</td>\n",
       "      <td>-5.197</td>\n",
       "      <td>0.0309</td>\n",
       "      <td>0.326</td>\n",
       "      <td>114.078</td>\n",
       "    </tr>\n",
       "    <tr>\n",
       "      <th>4</th>\n",
       "      <td>Lust For Life (with The Weeknd)</td>\n",
       "      <td>0.60400</td>\n",
       "      <td>0.504</td>\n",
       "      <td>0.3640</td>\n",
       "      <td>-8.644</td>\n",
       "      <td>0.0542</td>\n",
       "      <td>0.262</td>\n",
       "      <td>99.982</td>\n",
       "    </tr>\n",
       "  </tbody>\n",
       "</table>\n",
       "</div>"
      ],
      "text/plain": [
       "                              Song  Acousticness  Danceability  Liveness  \\\n",
       "0                      The Morning       0.31700         0.652    0.1040   \n",
       "1                        Sacrifice       0.02960         0.735    0.0678   \n",
       "2                            Faith       0.09790         0.202    0.1090   \n",
       "3                     Wicked Games       0.00959         0.658    0.3250   \n",
       "4  Lust For Life (with The Weeknd)       0.60400         0.504    0.3640   \n",
       "\n",
       "   Loudness  Speechiness  Valence    Tempo  \n",
       "0    -7.555       0.0390    0.186  120.073  \n",
       "1    -6.523       0.1130    0.905  122.000  \n",
       "2    -5.212       0.0324    0.252   85.040  \n",
       "3    -5.197       0.0309    0.326  114.078  \n",
       "4    -8.644       0.0542    0.262   99.982  "
      ]
     },
     "execution_count": 9,
     "metadata": {},
     "output_type": "execute_result"
    }
   ],
   "source": [
    "acousticness = []\n",
    "danceability = []\n",
    "liveness = []\n",
    "loudness = []\n",
    "speechiness = []\n",
    "valence = []\n",
    "tempo = []\n",
    "\n",
    "for i in audioFeatures:\n",
    "  acousticness.append(i.get('acousticness'))\n",
    "  danceability.append(i.get('danceability'))\n",
    "  liveness.append(i.get('liveness'))\n",
    "  loudness.append(i.get('loudness'))\n",
    "  speechiness.append(i.get('speechiness'))\n",
    "  valence.append(i.get('valence'))\n",
    "  tempo.append(i.get('tempo'))\n",
    "\n",
    "songs = pd.DataFrame(list(zip(tracks, acousticness, danceability, liveness, loudness, speechiness, valence, tempo)), columns=['Song', 'Acousticness', 'Danceability', 'Liveness', 'Loudness', 'Speechiness', 'Valence', 'Tempo'])\n",
    "songs.head()"
   ]
  },
  {
   "cell_type": "code",
   "execution_count": 10,
   "metadata": {
    "colab": {
     "base_uri": "https://localhost:8080/",
     "height": 206
    },
    "id": "Gd8SQFY0rzWr",
    "outputId": "d142fdd8-4b4c-4011-f3d8-bacb449d164c"
   },
   "outputs": [
    {
     "data": {
      "text/html": [
       "<div>\n",
       "<style scoped>\n",
       "    .dataframe tbody tr th:only-of-type {\n",
       "        vertical-align: middle;\n",
       "    }\n",
       "\n",
       "    .dataframe tbody tr th {\n",
       "        vertical-align: top;\n",
       "    }\n",
       "\n",
       "    .dataframe thead th {\n",
       "        text-align: right;\n",
       "    }\n",
       "</style>\n",
       "<table border=\"1\" class=\"dataframe\">\n",
       "  <thead>\n",
       "    <tr style=\"text-align: right;\">\n",
       "      <th></th>\n",
       "      <th>Song</th>\n",
       "      <th>Acousticness</th>\n",
       "      <th>Danceability</th>\n",
       "      <th>Liveness</th>\n",
       "      <th>Loudness</th>\n",
       "      <th>Speechiness</th>\n",
       "      <th>Valence</th>\n",
       "      <th>Tempo</th>\n",
       "    </tr>\n",
       "  </thead>\n",
       "  <tbody>\n",
       "    <tr>\n",
       "      <th>0</th>\n",
       "      <td>The Morning</td>\n",
       "      <td>0.31700</td>\n",
       "      <td>0.652</td>\n",
       "      <td>0.1040</td>\n",
       "      <td>0.808312</td>\n",
       "      <td>0.0390</td>\n",
       "      <td>0.186</td>\n",
       "      <td>0.428750</td>\n",
       "    </tr>\n",
       "    <tr>\n",
       "      <th>1</th>\n",
       "      <td>Sacrifice</td>\n",
       "      <td>0.02960</td>\n",
       "      <td>0.735</td>\n",
       "      <td>0.0678</td>\n",
       "      <td>0.836420</td>\n",
       "      <td>0.1130</td>\n",
       "      <td>0.905</td>\n",
       "      <td>0.441849</td>\n",
       "    </tr>\n",
       "    <tr>\n",
       "      <th>2</th>\n",
       "      <td>Faith</td>\n",
       "      <td>0.09790</td>\n",
       "      <td>0.202</td>\n",
       "      <td>0.1090</td>\n",
       "      <td>0.872127</td>\n",
       "      <td>0.0324</td>\n",
       "      <td>0.252</td>\n",
       "      <td>0.190618</td>\n",
       "    </tr>\n",
       "    <tr>\n",
       "      <th>3</th>\n",
       "      <td>Wicked Games</td>\n",
       "      <td>0.00959</td>\n",
       "      <td>0.658</td>\n",
       "      <td>0.3250</td>\n",
       "      <td>0.872535</td>\n",
       "      <td>0.0309</td>\n",
       "      <td>0.326</td>\n",
       "      <td>0.388000</td>\n",
       "    </tr>\n",
       "    <tr>\n",
       "      <th>4</th>\n",
       "      <td>Lust For Life (with The Weeknd)</td>\n",
       "      <td>0.60400</td>\n",
       "      <td>0.504</td>\n",
       "      <td>0.3640</td>\n",
       "      <td>0.778652</td>\n",
       "      <td>0.0542</td>\n",
       "      <td>0.262</td>\n",
       "      <td>0.292184</td>\n",
       "    </tr>\n",
       "  </tbody>\n",
       "</table>\n",
       "</div>"
      ],
      "text/plain": [
       "                              Song  Acousticness  Danceability  Liveness  \\\n",
       "0                      The Morning       0.31700         0.652    0.1040   \n",
       "1                        Sacrifice       0.02960         0.735    0.0678   \n",
       "2                            Faith       0.09790         0.202    0.1090   \n",
       "3                     Wicked Games       0.00959         0.658    0.3250   \n",
       "4  Lust For Life (with The Weeknd)       0.60400         0.504    0.3640   \n",
       "\n",
       "   Loudness  Speechiness  Valence     Tempo  \n",
       "0  0.808312       0.0390    0.186  0.428750  \n",
       "1  0.836420       0.1130    0.905  0.441849  \n",
       "2  0.872127       0.0324    0.252  0.190618  \n",
       "3  0.872535       0.0309    0.326  0.388000  \n",
       "4  0.778652       0.0542    0.262  0.292184  "
      ]
     },
     "execution_count": 10,
     "metadata": {},
     "output_type": "execute_result"
    }
   ],
   "source": [
    "# loudness and tempo audio features need to be scaled so as they lie within the range 0-1\n",
    "from sklearn import preprocessing\n",
    "import numpy\n",
    "\n",
    "arrl = numpy.array(loudness)\n",
    "arrt = numpy.array(tempo)\n",
    "min_max_scaler = preprocessing.MinMaxScaler()\n",
    "loudness_scaled = min_max_scaler.fit_transform(arrl.reshape(-1,1))\n",
    "tempo_scaled = min_max_scaler.fit_transform(arrt.reshape(-1,1))\n",
    "songs['Loudness'] = pd.DataFrame(loudness_scaled)\n",
    "songs['Tempo'] = pd.DataFrame(tempo_scaled)\n",
    "songs.dropna(inplace=True)\n",
    "songs.head()"
   ]
  },
  {
   "cell_type": "markdown",
   "metadata": {},
   "source": [
    "### Choosing the most appropriate audio features"
   ]
  },
  {
   "cell_type": "code",
   "execution_count": 11,
   "metadata": {
    "colab": {
     "base_uri": "https://localhost:8080/",
     "height": 1000
    },
    "id": "rguMJJf02Qab",
    "outputId": "9c188d9f-6770-4356-8869-9127f94552e5"
   },
   "outputs": [
    {
     "data": {
      "text/plain": [
       "array([[<AxesSubplot:title={'center':'Acousticness'}>,\n",
       "        <AxesSubplot:title={'center':'Danceability'}>,\n",
       "        <AxesSubplot:title={'center':'Liveness'}>],\n",
       "       [<AxesSubplot:title={'center':'Loudness'}>,\n",
       "        <AxesSubplot:title={'center':'Speechiness'}>,\n",
       "        <AxesSubplot:title={'center':'Valence'}>],\n",
       "       [<AxesSubplot:title={'center':'Tempo'}>, <AxesSubplot:>,\n",
       "        <AxesSubplot:>]], dtype=object)"
      ]
     },
     "execution_count": 11,
     "metadata": {},
     "output_type": "execute_result"
    },
    {
     "data": {
      "image/png": "[encoded data removed]",
      "text/plain": [
       "<Figure size 1440x1080 with 9 Axes>"
      ]
     },
     "metadata": {},
     "output_type": "display_data"
    }
   ],
   "source": [
    "%matplotlib inline\n",
    "import matplotlib as mpl\n",
    "import matplotlib.pyplot as plt\n",
    "mpl.rc('axes', labelsize=14)\n",
    "mpl.rc('xtick', labelsize=12)\n",
    "mpl.rc('ytick', labelsize=12)\n",
    "\n",
    "import seaborn as sns\n",
    "#set style of plots\n",
    "sns.set_style('white')\n",
    "\n",
    "songs.hist(bins=50,figsize=(20,15))"
   ]
  },
  {
   "cell_type": "code",
   "execution_count": 12,
   "metadata": {
    "colab": {
     "base_uri": "https://localhost:8080/",
     "height": 206
    },
    "id": "Mtynm5DI6WtW",
    "outputId": "9306d15d-b992-4457-819b-b1c69fe9a973"
   },
   "outputs": [
    {
     "data": {
      "text/html": [
       "<div>\n",
       "<style scoped>\n",
       "    .dataframe tbody tr th:only-of-type {\n",
       "        vertical-align: middle;\n",
       "    }\n",
       "\n",
       "    .dataframe tbody tr th {\n",
       "        vertical-align: top;\n",
       "    }\n",
       "\n",
       "    .dataframe thead th {\n",
       "        text-align: right;\n",
       "    }\n",
       "</style>\n",
       "<table border=\"1\" class=\"dataframe\">\n",
       "  <thead>\n",
       "    <tr style=\"text-align: right;\">\n",
       "      <th></th>\n",
       "      <th>Acousticness</th>\n",
       "      <th>Danceability</th>\n",
       "      <th>Liveness</th>\n",
       "      <th>Loudness</th>\n",
       "      <th>Speechiness</th>\n",
       "      <th>Valence</th>\n",
       "    </tr>\n",
       "  </thead>\n",
       "  <tbody>\n",
       "    <tr>\n",
       "      <th>0</th>\n",
       "      <td>0.31700</td>\n",
       "      <td>0.652</td>\n",
       "      <td>0.1040</td>\n",
       "      <td>0.808312</td>\n",
       "      <td>0.0390</td>\n",
       "      <td>0.186</td>\n",
       "    </tr>\n",
       "    <tr>\n",
       "      <th>1</th>\n",
       "      <td>0.02960</td>\n",
       "      <td>0.735</td>\n",
       "      <td>0.0678</td>\n",
       "      <td>0.836420</td>\n",
       "      <td>0.1130</td>\n",
       "      <td>0.905</td>\n",
       "    </tr>\n",
       "    <tr>\n",
       "      <th>2</th>\n",
       "      <td>0.09790</td>\n",
       "      <td>0.202</td>\n",
       "      <td>0.1090</td>\n",
       "      <td>0.872127</td>\n",
       "      <td>0.0324</td>\n",
       "      <td>0.252</td>\n",
       "    </tr>\n",
       "    <tr>\n",
       "      <th>3</th>\n",
       "      <td>0.00959</td>\n",
       "      <td>0.658</td>\n",
       "      <td>0.3250</td>\n",
       "      <td>0.872535</td>\n",
       "      <td>0.0309</td>\n",
       "      <td>0.326</td>\n",
       "    </tr>\n",
       "    <tr>\n",
       "      <th>4</th>\n",
       "      <td>0.60400</td>\n",
       "      <td>0.504</td>\n",
       "      <td>0.3640</td>\n",
       "      <td>0.778652</td>\n",
       "      <td>0.0542</td>\n",
       "      <td>0.262</td>\n",
       "    </tr>\n",
       "  </tbody>\n",
       "</table>\n",
       "</div>"
      ],
      "text/plain": [
       "   Acousticness  Danceability  Liveness  Loudness  Speechiness  Valence\n",
       "0       0.31700         0.652    0.1040  0.808312       0.0390    0.186\n",
       "1       0.02960         0.735    0.0678  0.836420       0.1130    0.905\n",
       "2       0.09790         0.202    0.1090  0.872127       0.0324    0.252\n",
       "3       0.00959         0.658    0.3250  0.872535       0.0309    0.326\n",
       "4       0.60400         0.504    0.3640  0.778652       0.0542    0.262"
      ]
     },
     "execution_count": 12,
     "metadata": {},
     "output_type": "execute_result"
    }
   ],
   "source": [
    "# drop tempo since it has high variance\n",
    "song_features = songs.drop(['Song', 'Tempo', ],axis=1)\n",
    "song_features.head()"
   ]
  },
  {
   "cell_type": "markdown",
   "metadata": {},
   "source": [
    "### Clustering songs into moods"
   ]
  },
  {
   "cell_type": "code",
   "execution_count": 13,
   "metadata": {
    "id": "XY1c0QnmtQz_"
   },
   "outputs": [],
   "source": [
    "# finding appropriate number of mood clusters\n",
    "from sklearn.cluster import KMeans\n",
    "\n",
    "Sum_of_squared_distances = []\n",
    "K = range(1,15)\n",
    "\n",
    "for k in K:\n",
    "    km = KMeans(n_clusters=k)\n",
    "    km = km.fit(song_features)\n",
    "    Sum_of_squared_distances.append(km.inertia_)"
   ]
  },
  {
   "cell_type": "code",
   "execution_count": 14,
   "metadata": {
    "colab": {
     "base_uri": "https://localhost:8080/",
     "height": 302
    },
    "id": "8BT6yWbd3OnC",
    "outputId": "58a6baec-9e4f-4358-dca4-60f9dfadbdc5"
   },
   "outputs": [
    {
     "data": {
      "image/png": "[encoded data removed]",
      "text/plain": [
       "<Figure size 432x288 with 1 Axes>"
      ]
     },
     "metadata": {},
     "output_type": "display_data"
    }
   ],
   "source": [
    "from sklearn.metrics import silhouette_score\n",
    "for n_clusters in range(2,15):\n",
    "    clusterer = KMeans (n_clusters=n_clusters)\n",
    "    preds = clusterer.fit_predict(song_features)\n",
    "    centers = clusterer.cluster_centers_\n",
    "\n",
    "    score = silhouette_score (song_features, preds, metric='euclidean')\n",
    "\n",
    "plt.plot(K, Sum_of_squared_distances, 'gx-')\n",
    "plt.xlabel('k')\n",
    "plt.ylabel('Sum_of_squared_distances')\n",
    "plt.title('Elbow Method For Optimal k')\n",
    "plt.show()"
   ]
  },
  {
   "cell_type": "code",
   "execution_count": 15,
   "metadata": {
    "colab": {
     "base_uri": "https://localhost:8080/"
    },
    "id": "8UjDSYVO3rcP",
    "outputId": "d32de148-8139-4d06-b271-12954840ab41"
   },
   "outputs": [
    {
     "data": {
      "text/html": [
       "<style>#sk-container-id-1 {color: black;background-color: white;}#sk-container-id-1 pre{padding: 0;}#sk-container-id-1 div.sk-toggleable {background-color: white;}#sk-container-id-1 label.sk-toggleable__label {cursor: pointer;display: block;width: 100%;margin-bottom: 0;padding: 0.3em;box-sizing: border-box;text-align: center;}#sk-container-id-1 label.sk-toggleable__label-arrow:before {content: \"▸\";float: left;margin-right: 0.25em;color: #696969;}#sk-container-id-1 label.sk-toggleable__label-arrow:hover:before {color: black;}#sk-container-id-1 div.sk-estimator:hover label.sk-toggleable__label-arrow:before {color: black;}#sk-container-id-1 div.sk-toggleable__content {max-height: 0;max-width: 0;overflow: hidden;text-align: left;background-color: #f0f8ff;}#sk-container-id-1 div.sk-toggleable__content pre {margin: 0.2em;color: black;border-radius: 0.25em;background-color: #f0f8ff;}#sk-container-id-1 input.sk-toggleable__control:checked~div.sk-toggleable__content {max-height: 200px;max-width: 100%;overflow: auto;}#sk-container-id-1 input.sk-toggleable__control:checked~label.sk-toggleable__label-arrow:before {content: \"▾\";}#sk-container-id-1 div.sk-estimator input.sk-toggleable__control:checked~label.sk-toggleable__label {background-color: #d4ebff;}#sk-container-id-1 div.sk-label input.sk-toggleable__control:checked~label.sk-toggleable__label {background-color: #d4ebff;}#sk-container-id-1 input.sk-hidden--visually {border: 0;clip: rect(1px 1px 1px 1px);clip: rect(1px, 1px, 1px, 1px);height: 1px;margin: -1px;overflow: hidden;padding: 0;position: absolute;width: 1px;}#sk-container-id-1 div.sk-estimator {font-family: monospace;background-color: #f0f8ff;border: 1px dotted black;border-radius: 0.25em;box-sizing: border-box;margin-bottom: 0.5em;}#sk-container-id-1 div.sk-estimator:hover {background-color: #d4ebff;}#sk-container-id-1 div.sk-parallel-item::after {content: \"\";width: 100%;border-bottom: 1px solid gray;flex-grow: 1;}#sk-container-id-1 div.sk-label:hover label.sk-toggleable__label {background-color: #d4ebff;}#sk-container-id-1 div.sk-serial::before {content: \"\";position: absolute;border-left: 1px solid gray;box-sizing: border-box;top: 0;bottom: 0;left: 50%;z-index: 0;}#sk-container-id-1 div.sk-serial {display: flex;flex-direction: column;align-items: center;background-color: white;padding-right: 0.2em;padding-left: 0.2em;position: relative;}#sk-container-id-1 div.sk-item {position: relative;z-index: 1;}#sk-container-id-1 div.sk-parallel {display: flex;align-items: stretch;justify-content: center;background-color: white;position: relative;}#sk-container-id-1 div.sk-item::before, #sk-container-id-1 div.sk-parallel-item::before {content: \"\";position: absolute;border-left: 1px solid gray;box-sizing: border-box;top: 0;bottom: 0;left: 50%;z-index: -1;}#sk-container-id-1 div.sk-parallel-item {display: flex;flex-direction: column;z-index: 1;position: relative;background-color: white;}#sk-container-id-1 div.sk-parallel-item:first-child::after {align-self: flex-end;width: 50%;}#sk-container-id-1 div.sk-parallel-item:last-child::after {align-self: flex-start;width: 50%;}#sk-container-id-1 div.sk-parallel-item:only-child::after {width: 0;}#sk-container-id-1 div.sk-dashed-wrapped {border: 1px dashed gray;margin: 0 0.4em 0.5em 0.4em;box-sizing: border-box;padding-bottom: 0.4em;background-color: white;}#sk-container-id-1 div.sk-label label {font-family: monospace;font-weight: bold;display: inline-block;line-height: 1.2em;}#sk-container-id-1 div.sk-label-container {text-align: center;}#sk-container-id-1 div.sk-container {/* jupyter's `normalize.less` sets `[hidden] { display: none; }` but bootstrap.min.css set `[hidden] { display: none !important; }` so we also need the `!important` here to be able to override the default hidden behavior on the sphinx rendered scikit-learn.org. See: https://github.com/scikit-learn/scikit-learn/issues/21755 */display: inline-block !important;position: relative;}#sk-container-id-1 div.sk-text-repr-fallback {display: none;}</style><div id=\"sk-container-id-1\" class=\"sk-top-container\"><div class=\"sk-text-repr-fallback\"><pre>KMeans(n_clusters=3)</pre><b>In a Jupyter environment, please rerun this cell to show the HTML representation or trust the notebook. <br />On GitHub, the HTML representation is unable to render, please try loading this page with nbviewer.org.</b></div><div class=\"sk-container\" hidden><div class=\"sk-item\"><div class=\"sk-estimator sk-toggleable\"><input class=\"sk-toggleable__control sk-hidden--visually\" id=\"sk-estimator-id-1\" type=\"checkbox\" checked><label for=\"sk-estimator-id-1\" class=\"sk-toggleable__label sk-toggleable__label-arrow\">KMeans</label><div class=\"sk-toggleable__content\"><pre>KMeans(n_clusters=3)</pre></div></div></div></div></div>"
      ],
      "text/plain": [
       "KMeans(n_clusters=3)"
      ]
     },
     "execution_count": 15,
     "metadata": {},
     "output_type": "execute_result"
    }
   ],
   "source": [
    "#optimal number of clusters is 3\n",
    "kmeans = KMeans(n_clusters=3)\n",
    "kmeans.fit(song_features)"
   ]
  },
  {
   "cell_type": "markdown",
   "metadata": {},
   "source": [
    "### Visualising the Clusters using PCA"
   ]
  },
  {
   "cell_type": "code",
   "execution_count": 16,
   "metadata": {
    "id": "4_Eg69ss8fYk"
   },
   "outputs": [],
   "source": [
    "from sklearn.decomposition import PCA\n",
    "y_kmeans = kmeans.predict(song_features)\n",
    "pca = PCA(n_components=2)\n",
    "principal_components = pca.fit_transform(song_features)"
   ]
  },
  {
   "cell_type": "code",
   "execution_count": 17,
   "metadata": {
    "colab": {
     "base_uri": "https://localhost:8080/",
     "height": 426
    },
    "id": "g0QzarH28kSH",
    "outputId": "73829610-78fa-4da3-c126-1ebf8f1f90d1"
   },
   "outputs": [
    {
     "name": "stderr",
     "output_type": "stream",
     "text": [
      "C:\\Users\\Hp\\AppData\\Local\\Programs\\Python\\Python310\\lib\\site-packages\\seaborn\\regression.py:592: UserWarning: legend_out is deprecated from the `lmplot` function signature. Please update your code to pass it using `facet_kws`.\n",
      "  warnings.warn(msg, UserWarning)\n"
     ]
    },
    {
     "data": {
      "image/png": "[encoded data removed]",
      "text/plain": [
       "<Figure size 401.625x360 with 1 Axes>"
      ]
     },
     "metadata": {},
     "output_type": "display_data"
    }
   ],
   "source": [
    "pc = pd.DataFrame(principal_components)\n",
    "pc['label'] = y_kmeans\n",
    "pc.columns = ['x', 'y','label']\n",
    "\n",
    "#plot data with seaborn\n",
    "cluster = sns.lmplot(data=pc, x='x', y='y', hue='label', \n",
    "                   fit_reg=False, legend=True, legend_out=True)"
   ]
  },
  {
   "cell_type": "code",
   "execution_count": 18,
   "metadata": {
    "colab": {
     "base_uri": "https://localhost:8080/"
    },
    "id": "qqZ3FKqB91hl",
    "outputId": "8856a668-919c-4a16-eb40-e170e540c580"
   },
   "outputs": [
    {
     "data": {
      "text/plain": [
       "array([0.61134208, 0.19242802])"
      ]
     },
     "execution_count": 18,
     "metadata": {},
     "output_type": "execute_result"
    }
   ],
   "source": [
    "pca.explained_variance_ratio_"
   ]
  },
  {
   "cell_type": "code",
   "execution_count": 19,
   "metadata": {
    "colab": {
     "base_uri": "https://localhost:8080/"
    },
    "id": "_VdPJib1-Pus",
    "outputId": "ac0cb2b8-e851-4b73-adfb-826025118c0e"
   },
   "outputs": [
    {
     "name": "stdout",
     "output_type": "stream",
     "text": [
      "      Acousticness  Danceability  Liveness  Loudness  Speechiness   Valence\n",
      "PC-1      0.797763     -0.303218 -0.074997 -0.325662    -0.061552 -0.395176\n",
      "PC-2      0.559534      0.472629  0.025924  0.101942     0.042990  0.671291\n"
     ]
    }
   ],
   "source": [
    "print(pd.DataFrame(pca.components_,columns=song_features.columns,index = ['PC-1','PC-2']))"
   ]
  },
  {
   "cell_type": "markdown",
   "metadata": {},
   "source": [
    "### Labelling each cluster into different moods by inspecting the songs in each cluster"
   ]
  },
  {
   "cell_type": "code",
   "execution_count": 20,
   "metadata": {
    "colab": {
     "base_uri": "https://localhost:8080/"
    },
    "id": "ccziChZ2-lwm",
    "outputId": "b4d91af1-a943-4b66-e5d2-850b52414b5d"
   },
   "outputs": [
    {
     "data": {
      "text/plain": [
       "0    177\n",
       "2    177\n",
       "1    112\n",
       "Name: label, dtype: int64"
      ]
     },
     "execution_count": 20,
     "metadata": {},
     "output_type": "execute_result"
    }
   ],
   "source": [
    "songs['label'] = y_kmeans\n",
    "\n",
    "# shuffle dataset\n",
    "songs = songs.sample(frac=1)\n",
    "songs['label'].value_counts()"
   ]
  },
  {
   "cell_type": "code",
   "execution_count": 26,
   "metadata": {
    "colab": {
     "base_uri": "https://localhost:8080/",
     "height": 676
    },
    "id": "xVGPVsdm_Cc3",
    "outputId": "4420aa3b-cc2c-42fa-b8e0-43c735af79a7"
   },
   "outputs": [
    {
     "data": {
      "text/html": [
       "<div>\n",
       "<style scoped>\n",
       "    .dataframe tbody tr th:only-of-type {\n",
       "        vertical-align: middle;\n",
       "    }\n",
       "\n",
       "    .dataframe tbody tr th {\n",
       "        vertical-align: top;\n",
       "    }\n",
       "\n",
       "    .dataframe thead th {\n",
       "        text-align: right;\n",
       "    }\n",
       "</style>\n",
       "<table border=\"1\" class=\"dataframe\">\n",
       "  <thead>\n",
       "    <tr style=\"text-align: right;\">\n",
       "      <th></th>\n",
       "      <th>Song</th>\n",
       "      <th>Acousticness</th>\n",
       "      <th>Danceability</th>\n",
       "      <th>Liveness</th>\n",
       "      <th>Loudness</th>\n",
       "      <th>Speechiness</th>\n",
       "      <th>Valence</th>\n",
       "      <th>Tempo</th>\n",
       "      <th>label</th>\n",
       "    </tr>\n",
       "  </thead>\n",
       "  <tbody>\n",
       "    <tr>\n",
       "      <th>271</th>\n",
       "      <td>Never Meant To Belong (Bleach)</td>\n",
       "      <td>0.988</td>\n",
       "      <td>0.443</td>\n",
       "      <td>0.1020</td>\n",
       "      <td>0.317600</td>\n",
       "      <td>0.0440</td>\n",
       "      <td>0.0374</td>\n",
       "      <td>0.046304</td>\n",
       "      <td>0</td>\n",
       "    </tr>\n",
       "    <tr>\n",
       "      <th>305</th>\n",
       "      <td>Jo Bhi Main</td>\n",
       "      <td>0.580</td>\n",
       "      <td>0.558</td>\n",
       "      <td>0.1250</td>\n",
       "      <td>0.808149</td>\n",
       "      <td>0.0286</td>\n",
       "      <td>0.3940</td>\n",
       "      <td>0.536916</td>\n",
       "      <td>0</td>\n",
       "    </tr>\n",
       "    <tr>\n",
       "      <th>79</th>\n",
       "      <td>Muskurane - Romantic</td>\n",
       "      <td>0.628</td>\n",
       "      <td>0.567</td>\n",
       "      <td>0.1320</td>\n",
       "      <td>0.845299</td>\n",
       "      <td>0.0264</td>\n",
       "      <td>0.2170</td>\n",
       "      <td>0.305833</td>\n",
       "      <td>0</td>\n",
       "    </tr>\n",
       "    <tr>\n",
       "      <th>298</th>\n",
       "      <td>Jo Bhi Main</td>\n",
       "      <td>0.580</td>\n",
       "      <td>0.558</td>\n",
       "      <td>0.1250</td>\n",
       "      <td>0.808149</td>\n",
       "      <td>0.0286</td>\n",
       "      <td>0.3940</td>\n",
       "      <td>0.536916</td>\n",
       "      <td>0</td>\n",
       "    </tr>\n",
       "    <tr>\n",
       "      <th>35</th>\n",
       "      <td>Ceiling Games</td>\n",
       "      <td>0.907</td>\n",
       "      <td>0.234</td>\n",
       "      <td>0.1180</td>\n",
       "      <td>0.648791</td>\n",
       "      <td>0.0317</td>\n",
       "      <td>0.1180</td>\n",
       "      <td>0.022771</td>\n",
       "      <td>0</td>\n",
       "    </tr>\n",
       "    <tr>\n",
       "      <th>104</th>\n",
       "      <td>Mehrama</td>\n",
       "      <td>0.861</td>\n",
       "      <td>0.560</td>\n",
       "      <td>0.0985</td>\n",
       "      <td>0.768085</td>\n",
       "      <td>0.0334</td>\n",
       "      <td>0.3760</td>\n",
       "      <td>0.346597</td>\n",
       "      <td>0</td>\n",
       "    </tr>\n",
       "    <tr>\n",
       "      <th>194</th>\n",
       "      <td>Wanted</td>\n",
       "      <td>0.902</td>\n",
       "      <td>0.704</td>\n",
       "      <td>0.1060</td>\n",
       "      <td>0.620411</td>\n",
       "      <td>0.0994</td>\n",
       "      <td>0.2430</td>\n",
       "      <td>0.428295</td>\n",
       "      <td>0</td>\n",
       "    </tr>\n",
       "    <tr>\n",
       "      <th>379</th>\n",
       "      <td>Before You Go</td>\n",
       "      <td>0.604</td>\n",
       "      <td>0.459</td>\n",
       "      <td>0.0885</td>\n",
       "      <td>0.881768</td>\n",
       "      <td>0.0573</td>\n",
       "      <td>0.1830</td>\n",
       "      <td>0.373066</td>\n",
       "      <td>0</td>\n",
       "    </tr>\n",
       "    <tr>\n",
       "      <th>338</th>\n",
       "      <td>Take Me To Church</td>\n",
       "      <td>0.634</td>\n",
       "      <td>0.566</td>\n",
       "      <td>0.1160</td>\n",
       "      <td>0.869648</td>\n",
       "      <td>0.0464</td>\n",
       "      <td>0.4370</td>\n",
       "      <td>0.489056</td>\n",
       "      <td>0</td>\n",
       "    </tr>\n",
       "    <tr>\n",
       "      <th>37</th>\n",
       "      <td>Peace and Purpose</td>\n",
       "      <td>0.931</td>\n",
       "      <td>0.154</td>\n",
       "      <td>0.2080</td>\n",
       "      <td>0.491530</td>\n",
       "      <td>0.0387</td>\n",
       "      <td>0.0396</td>\n",
       "      <td>0.160751</td>\n",
       "      <td>0</td>\n",
       "    </tr>\n",
       "    <tr>\n",
       "      <th>280</th>\n",
       "      <td>Anchor</td>\n",
       "      <td>0.805</td>\n",
       "      <td>0.457</td>\n",
       "      <td>0.1260</td>\n",
       "      <td>0.701547</td>\n",
       "      <td>0.0308</td>\n",
       "      <td>0.1260</td>\n",
       "      <td>0.408222</td>\n",
       "      <td>0</td>\n",
       "    </tr>\n",
       "    <tr>\n",
       "      <th>496</th>\n",
       "      <td>Silhouette (Naruto Shippuden)</td>\n",
       "      <td>0.568</td>\n",
       "      <td>0.760</td>\n",
       "      <td>0.0855</td>\n",
       "      <td>0.642635</td>\n",
       "      <td>0.0485</td>\n",
       "      <td>0.1840</td>\n",
       "      <td>0.700339</td>\n",
       "      <td>0</td>\n",
       "    </tr>\n",
       "    <tr>\n",
       "      <th>436</th>\n",
       "      <td>Lover Of Mine</td>\n",
       "      <td>0.513</td>\n",
       "      <td>0.422</td>\n",
       "      <td>0.2030</td>\n",
       "      <td>0.756509</td>\n",
       "      <td>0.0359</td>\n",
       "      <td>0.0520</td>\n",
       "      <td>0.373087</td>\n",
       "      <td>0</td>\n",
       "    </tr>\n",
       "    <tr>\n",
       "      <th>219</th>\n",
       "      <td>Spark</td>\n",
       "      <td>0.748</td>\n",
       "      <td>0.371</td>\n",
       "      <td>0.1040</td>\n",
       "      <td>0.727939</td>\n",
       "      <td>0.0281</td>\n",
       "      <td>0.1650</td>\n",
       "      <td>0.310095</td>\n",
       "      <td>0</td>\n",
       "    </tr>\n",
       "    <tr>\n",
       "      <th>134</th>\n",
       "      <td>A Lannister Always Pays His Debts</td>\n",
       "      <td>0.552</td>\n",
       "      <td>0.288</td>\n",
       "      <td>0.1710</td>\n",
       "      <td>0.564195</td>\n",
       "      <td>0.0402</td>\n",
       "      <td>0.0963</td>\n",
       "      <td>0.199815</td>\n",
       "      <td>0</td>\n",
       "    </tr>\n",
       "    <tr>\n",
       "      <th>336</th>\n",
       "      <td>The Joker And The Queen</td>\n",
       "      <td>0.924</td>\n",
       "      <td>0.528</td>\n",
       "      <td>0.2820</td>\n",
       "      <td>0.812589</td>\n",
       "      <td>0.0329</td>\n",
       "      <td>0.3070</td>\n",
       "      <td>0.522261</td>\n",
       "      <td>0</td>\n",
       "    </tr>\n",
       "    <tr>\n",
       "      <th>258</th>\n",
       "      <td>Give Me a Purpose</td>\n",
       "      <td>0.781</td>\n",
       "      <td>0.623</td>\n",
       "      <td>0.2680</td>\n",
       "      <td>0.666957</td>\n",
       "      <td>0.0332</td>\n",
       "      <td>0.0868</td>\n",
       "      <td>0.564303</td>\n",
       "      <td>0</td>\n",
       "    </tr>\n",
       "    <tr>\n",
       "      <th>27</th>\n",
       "      <td>Playing Beltik</td>\n",
       "      <td>0.967</td>\n",
       "      <td>0.459</td>\n",
       "      <td>0.1230</td>\n",
       "      <td>0.289438</td>\n",
       "      <td>0.0449</td>\n",
       "      <td>0.0384</td>\n",
       "      <td>0.428390</td>\n",
       "      <td>0</td>\n",
       "    </tr>\n",
       "    <tr>\n",
       "      <th>253</th>\n",
       "      <td>I Tried</td>\n",
       "      <td>0.721</td>\n",
       "      <td>0.567</td>\n",
       "      <td>0.1300</td>\n",
       "      <td>0.751798</td>\n",
       "      <td>0.1070</td>\n",
       "      <td>0.2380</td>\n",
       "      <td>0.563671</td>\n",
       "      <td>0</td>\n",
       "    </tr>\n",
       "    <tr>\n",
       "      <th>249</th>\n",
       "      <td>I Had a Memory So Painful It Made Me Cry</td>\n",
       "      <td>0.644</td>\n",
       "      <td>0.591</td>\n",
       "      <td>0.1080</td>\n",
       "      <td>0.653285</td>\n",
       "      <td>0.0562</td>\n",
       "      <td>0.0398</td>\n",
       "      <td>0.482871</td>\n",
       "      <td>0</td>\n",
       "    </tr>\n",
       "  </tbody>\n",
       "</table>\n",
       "</div>"
      ],
      "text/plain": [
       "                                         Song  Acousticness  Danceability  \\\n",
       "271            Never Meant To Belong (Bleach)         0.988         0.443   \n",
       "305                               Jo Bhi Main         0.580         0.558   \n",
       "79                       Muskurane - Romantic         0.628         0.567   \n",
       "298                               Jo Bhi Main         0.580         0.558   \n",
       "35                              Ceiling Games         0.907         0.234   \n",
       "104                                   Mehrama         0.861         0.560   \n",
       "194                                    Wanted         0.902         0.704   \n",
       "379                             Before You Go         0.604         0.459   \n",
       "338                         Take Me To Church         0.634         0.566   \n",
       "37                          Peace and Purpose         0.931         0.154   \n",
       "280                                    Anchor         0.805         0.457   \n",
       "496             Silhouette (Naruto Shippuden)         0.568         0.760   \n",
       "436                             Lover Of Mine         0.513         0.422   \n",
       "219                                     Spark         0.748         0.371   \n",
       "134         A Lannister Always Pays His Debts         0.552         0.288   \n",
       "336                   The Joker And The Queen         0.924         0.528   \n",
       "258                         Give Me a Purpose         0.781         0.623   \n",
       "27                             Playing Beltik         0.967         0.459   \n",
       "253                                   I Tried         0.721         0.567   \n",
       "249  I Had a Memory So Painful It Made Me Cry         0.644         0.591   \n",
       "\n",
       "     Liveness  Loudness  Speechiness  Valence     Tempo  label  \n",
       "271    0.1020  0.317600       0.0440   0.0374  0.046304      0  \n",
       "305    0.1250  0.808149       0.0286   0.3940  0.536916      0  \n",
       "79     0.1320  0.845299       0.0264   0.2170  0.305833      0  \n",
       "298    0.1250  0.808149       0.0286   0.3940  0.536916      0  \n",
       "35     0.1180  0.648791       0.0317   0.1180  0.022771      0  \n",
       "104    0.0985  0.768085       0.0334   0.3760  0.346597      0  \n",
       "194    0.1060  0.620411       0.0994   0.2430  0.428295      0  \n",
       "379    0.0885  0.881768       0.0573   0.1830  0.373066      0  \n",
       "338    0.1160  0.869648       0.0464   0.4370  0.489056      0  \n",
       "37     0.2080  0.491530       0.0387   0.0396  0.160751      0  \n",
       "280    0.1260  0.701547       0.0308   0.1260  0.408222      0  \n",
       "496    0.0855  0.642635       0.0485   0.1840  0.700339      0  \n",
       "436    0.2030  0.756509       0.0359   0.0520  0.373087      0  \n",
       "219    0.1040  0.727939       0.0281   0.1650  0.310095      0  \n",
       "134    0.1710  0.564195       0.0402   0.0963  0.199815      0  \n",
       "336    0.2820  0.812589       0.0329   0.3070  0.522261      0  \n",
       "258    0.2680  0.666957       0.0332   0.0868  0.564303      0  \n",
       "27     0.1230  0.289438       0.0449   0.0384  0.428390      0  \n",
       "253    0.1300  0.751798       0.1070   0.2380  0.563671      0  \n",
       "249    0.1080  0.653285       0.0562   0.0398  0.482871      0  "
      ]
     },
     "execution_count": 26,
     "metadata": {},
     "output_type": "execute_result"
    }
   ],
   "source": [
    "songs[songs['label'] == 0].tail(20)"
   ]
  },
  {
   "cell_type": "code",
   "execution_count": 22,
   "metadata": {
    "colab": {
     "base_uri": "https://localhost:8080/",
     "height": 467
    },
    "id": "0zRxZkZHCns8",
    "outputId": "ed2406f1-3ebd-444a-86b4-98b2f482d8c7"
   },
   "outputs": [
    {
     "data": {
      "text/plain": [
       "array([[<AxesSubplot:title={'center':'Acousticness'}>,\n",
       "        <AxesSubplot:title={'center':'Danceability'}>,\n",
       "        <AxesSubplot:title={'center':'Liveness'}>],\n",
       "       [<AxesSubplot:title={'center':'Loudness'}>,\n",
       "        <AxesSubplot:title={'center':'Speechiness'}>,\n",
       "        <AxesSubplot:title={'center':'Valence'}>],\n",
       "       [<AxesSubplot:title={'center':'Tempo'}>,\n",
       "        <AxesSubplot:title={'center':'label'}>, <AxesSubplot:>]],\n",
       "      dtype=object)"
      ]
     },
     "execution_count": 22,
     "metadata": {},
     "output_type": "execute_result"
    },
    {
     "data": {
      "image/png": "[encoded data removed]",
      "text/plain": [
       "<Figure size 432x288 with 9 Axes>"
      ]
     },
     "metadata": {},
     "output_type": "display_data"
    }
   ],
   "source": [
    "songs[songs['label']==0].hist()"
   ]
  },
  {
   "cell_type": "code",
   "execution_count": 23,
   "metadata": {
    "colab": {
     "base_uri": "https://localhost:8080/"
    },
    "id": "3-fxrfOsCthM",
    "outputId": "67cf7f06-4e4c-4378-94bb-a479a734eec8"
   },
   "outputs": [
    {
     "name": "stderr",
     "output_type": "stream",
     "text": [
      "C:\\Users\\Hp\\AppData\\Local\\Temp\\ipykernel_18688\\3587190627.py:1: FutureWarning: Dropping of nuisance columns in DataFrame reductions (with 'numeric_only=None') is deprecated; in a future version this will raise TypeError.  Select only valid columns before calling the reduction.\n",
      "  songs[songs['label']==0].mean()\n"
     ]
    },
    {
     "data": {
      "text/plain": [
       "Acousticness    0.806079\n",
       "Danceability    0.401988\n",
       "Liveness        0.137685\n",
       "Loudness        0.607028\n",
       "Speechiness     0.050026\n",
       "Valence         0.192280\n",
       "Tempo           0.336918\n",
       "label           0.000000\n",
       "dtype: float64"
      ]
     },
     "execution_count": 23,
     "metadata": {},
     "output_type": "execute_result"
    }
   ],
   "source": [
    "songs[songs['label']==0].mean()"
   ]
  },
  {
   "cell_type": "code",
   "execution_count": 33,
   "metadata": {
    "colab": {
     "base_uri": "https://localhost:8080/",
     "height": 676
    },
    "id": "DqSRgKra_Ps3",
    "outputId": "23badd67-dec8-4b71-9861-ea9117a46cda"
   },
   "outputs": [
    {
     "data": {
      "text/html": [
       "<div>\n",
       "<style scoped>\n",
       "    .dataframe tbody tr th:only-of-type {\n",
       "        vertical-align: middle;\n",
       "    }\n",
       "\n",
       "    .dataframe tbody tr th {\n",
       "        vertical-align: top;\n",
       "    }\n",
       "\n",
       "    .dataframe thead th {\n",
       "        text-align: right;\n",
       "    }\n",
       "</style>\n",
       "<table border=\"1\" class=\"dataframe\">\n",
       "  <thead>\n",
       "    <tr style=\"text-align: right;\">\n",
       "      <th></th>\n",
       "      <th>Song</th>\n",
       "      <th>Acousticness</th>\n",
       "      <th>Danceability</th>\n",
       "      <th>Liveness</th>\n",
       "      <th>Loudness</th>\n",
       "      <th>Speechiness</th>\n",
       "      <th>Valence</th>\n",
       "      <th>Tempo</th>\n",
       "      <th>label</th>\n",
       "    </tr>\n",
       "  </thead>\n",
       "  <tbody>\n",
       "    <tr>\n",
       "      <th>193</th>\n",
       "      <td>Thunder</td>\n",
       "      <td>0.000147</td>\n",
       "      <td>0.502</td>\n",
       "      <td>0.2170</td>\n",
       "      <td>0.873134</td>\n",
       "      <td>0.0364</td>\n",
       "      <td>0.2590</td>\n",
       "      <td>0.520154</td>\n",
       "      <td>1</td>\n",
       "    </tr>\n",
       "    <tr>\n",
       "      <th>410</th>\n",
       "      <td>Could You Love Me</td>\n",
       "      <td>0.311000</td>\n",
       "      <td>0.392</td>\n",
       "      <td>0.1240</td>\n",
       "      <td>0.927715</td>\n",
       "      <td>0.0782</td>\n",
       "      <td>0.3590</td>\n",
       "      <td>0.726420</td>\n",
       "      <td>1</td>\n",
       "    </tr>\n",
       "    <tr>\n",
       "      <th>84</th>\n",
       "      <td>Pal</td>\n",
       "      <td>0.035100</td>\n",
       "      <td>0.447</td>\n",
       "      <td>0.2430</td>\n",
       "      <td>0.790418</td>\n",
       "      <td>0.3230</td>\n",
       "      <td>0.2610</td>\n",
       "      <td>0.068701</td>\n",
       "      <td>1</td>\n",
       "    </tr>\n",
       "    <tr>\n",
       "      <th>214</th>\n",
       "      <td>Love Me Harder</td>\n",
       "      <td>0.009370</td>\n",
       "      <td>0.472</td>\n",
       "      <td>0.0764</td>\n",
       "      <td>0.894542</td>\n",
       "      <td>0.0334</td>\n",
       "      <td>0.2400</td>\n",
       "      <td>0.285455</td>\n",
       "      <td>1</td>\n",
       "    </tr>\n",
       "    <tr>\n",
       "      <th>5</th>\n",
       "      <td>Love Me Harder</td>\n",
       "      <td>0.009370</td>\n",
       "      <td>0.472</td>\n",
       "      <td>0.0764</td>\n",
       "      <td>0.894542</td>\n",
       "      <td>0.0334</td>\n",
       "      <td>0.2400</td>\n",
       "      <td>0.285455</td>\n",
       "      <td>1</td>\n",
       "    </tr>\n",
       "    <tr>\n",
       "      <th>285</th>\n",
       "      <td>You Get Me So High</td>\n",
       "      <td>0.186000</td>\n",
       "      <td>0.551</td>\n",
       "      <td>0.1520</td>\n",
       "      <td>0.847968</td>\n",
       "      <td>0.0542</td>\n",
       "      <td>0.3870</td>\n",
       "      <td>0.210983</td>\n",
       "      <td>1</td>\n",
       "    </tr>\n",
       "    <tr>\n",
       "      <th>295</th>\n",
       "      <td>Love Me Like You Do - From \"Fifty Shades Of Grey\"</td>\n",
       "      <td>0.247000</td>\n",
       "      <td>0.262</td>\n",
       "      <td>0.1250</td>\n",
       "      <td>0.833070</td>\n",
       "      <td>0.0484</td>\n",
       "      <td>0.2750</td>\n",
       "      <td>0.903097</td>\n",
       "      <td>1</td>\n",
       "    </tr>\n",
       "    <tr>\n",
       "      <th>155</th>\n",
       "      <td>Shinzo wo Sasageyo!</td>\n",
       "      <td>0.220000</td>\n",
       "      <td>0.440</td>\n",
       "      <td>0.2600</td>\n",
       "      <td>0.895332</td>\n",
       "      <td>0.0868</td>\n",
       "      <td>0.2030</td>\n",
       "      <td>0.699931</td>\n",
       "      <td>1</td>\n",
       "    </tr>\n",
       "    <tr>\n",
       "      <th>3</th>\n",
       "      <td>Wicked Games</td>\n",
       "      <td>0.009590</td>\n",
       "      <td>0.658</td>\n",
       "      <td>0.3250</td>\n",
       "      <td>0.872535</td>\n",
       "      <td>0.0309</td>\n",
       "      <td>0.3260</td>\n",
       "      <td>0.388000</td>\n",
       "      <td>1</td>\n",
       "    </tr>\n",
       "    <tr>\n",
       "      <th>326</th>\n",
       "      <td>Moth To A Flame (with The Weeknd)</td>\n",
       "      <td>0.002700</td>\n",
       "      <td>0.553</td>\n",
       "      <td>0.1050</td>\n",
       "      <td>0.815394</td>\n",
       "      <td>0.0391</td>\n",
       "      <td>0.1050</td>\n",
       "      <td>0.429246</td>\n",
       "      <td>1</td>\n",
       "    </tr>\n",
       "    <tr>\n",
       "      <th>66</th>\n",
       "      <td>Supermarine</td>\n",
       "      <td>0.102000</td>\n",
       "      <td>0.552</td>\n",
       "      <td>0.0892</td>\n",
       "      <td>0.654701</td>\n",
       "      <td>0.0401</td>\n",
       "      <td>0.1520</td>\n",
       "      <td>0.428322</td>\n",
       "      <td>1</td>\n",
       "    </tr>\n",
       "    <tr>\n",
       "      <th>12</th>\n",
       "      <td>Moth To A Flame (with The Weeknd)</td>\n",
       "      <td>0.002700</td>\n",
       "      <td>0.553</td>\n",
       "      <td>0.1050</td>\n",
       "      <td>0.815394</td>\n",
       "      <td>0.0391</td>\n",
       "      <td>0.1050</td>\n",
       "      <td>0.429246</td>\n",
       "      <td>1</td>\n",
       "    </tr>\n",
       "    <tr>\n",
       "      <th>339</th>\n",
       "      <td>Moth To A Flame (with The Weeknd)</td>\n",
       "      <td>0.002700</td>\n",
       "      <td>0.553</td>\n",
       "      <td>0.1050</td>\n",
       "      <td>0.815394</td>\n",
       "      <td>0.0391</td>\n",
       "      <td>0.1050</td>\n",
       "      <td>0.429246</td>\n",
       "      <td>1</td>\n",
       "    </tr>\n",
       "    <tr>\n",
       "      <th>163</th>\n",
       "      <td>You See Big Girl / T:T</td>\n",
       "      <td>0.007560</td>\n",
       "      <td>0.186</td>\n",
       "      <td>0.1280</td>\n",
       "      <td>0.799352</td>\n",
       "      <td>0.0441</td>\n",
       "      <td>0.2270</td>\n",
       "      <td>0.203037</td>\n",
       "      <td>1</td>\n",
       "    </tr>\n",
       "    <tr>\n",
       "      <th>406</th>\n",
       "      <td>Kids in Love (feat. The Night Game)</td>\n",
       "      <td>0.399000</td>\n",
       "      <td>0.499</td>\n",
       "      <td>0.2080</td>\n",
       "      <td>0.891383</td>\n",
       "      <td>0.0348</td>\n",
       "      <td>0.3010</td>\n",
       "      <td>0.440965</td>\n",
       "      <td>1</td>\n",
       "    </tr>\n",
       "    <tr>\n",
       "      <th>399</th>\n",
       "      <td>Love You Goodbye</td>\n",
       "      <td>0.092800</td>\n",
       "      <td>0.546</td>\n",
       "      <td>0.1190</td>\n",
       "      <td>0.883702</td>\n",
       "      <td>0.0332</td>\n",
       "      <td>0.3610</td>\n",
       "      <td>0.517897</td>\n",
       "      <td>1</td>\n",
       "    </tr>\n",
       "    <tr>\n",
       "      <th>282</th>\n",
       "      <td>Kabira</td>\n",
       "      <td>0.481000</td>\n",
       "      <td>0.590</td>\n",
       "      <td>0.1920</td>\n",
       "      <td>0.827214</td>\n",
       "      <td>0.0271</td>\n",
       "      <td>0.1910</td>\n",
       "      <td>0.183733</td>\n",
       "      <td>1</td>\n",
       "    </tr>\n",
       "    <tr>\n",
       "      <th>276</th>\n",
       "      <td>Daddy Issues</td>\n",
       "      <td>0.067800</td>\n",
       "      <td>0.588</td>\n",
       "      <td>0.1230</td>\n",
       "      <td>0.756400</td>\n",
       "      <td>0.0329</td>\n",
       "      <td>0.3370</td>\n",
       "      <td>0.190428</td>\n",
       "      <td>1</td>\n",
       "    </tr>\n",
       "    <tr>\n",
       "      <th>286</th>\n",
       "      <td>Stargazing</td>\n",
       "      <td>0.003040</td>\n",
       "      <td>0.512</td>\n",
       "      <td>0.1200</td>\n",
       "      <td>0.801694</td>\n",
       "      <td>0.0298</td>\n",
       "      <td>0.3670</td>\n",
       "      <td>0.700209</td>\n",
       "      <td>1</td>\n",
       "    </tr>\n",
       "    <tr>\n",
       "      <th>42</th>\n",
       "      <td>The Tower (Bonus Track)</td>\n",
       "      <td>0.068700</td>\n",
       "      <td>0.125</td>\n",
       "      <td>0.0996</td>\n",
       "      <td>0.561744</td>\n",
       "      <td>0.0414</td>\n",
       "      <td>0.0299</td>\n",
       "      <td>0.273077</td>\n",
       "      <td>1</td>\n",
       "    </tr>\n",
       "  </tbody>\n",
       "</table>\n",
       "</div>"
      ],
      "text/plain": [
       "                                                  Song  Acousticness  \\\n",
       "193                                            Thunder      0.000147   \n",
       "410                                  Could You Love Me      0.311000   \n",
       "84                                                 Pal      0.035100   \n",
       "214                                     Love Me Harder      0.009370   \n",
       "5                                       Love Me Harder      0.009370   \n",
       "285                                 You Get Me So High      0.186000   \n",
       "295  Love Me Like You Do - From \"Fifty Shades Of Grey\"      0.247000   \n",
       "155                                Shinzo wo Sasageyo!      0.220000   \n",
       "3                                         Wicked Games      0.009590   \n",
       "326                  Moth To A Flame (with The Weeknd)      0.002700   \n",
       "66                                         Supermarine      0.102000   \n",
       "12                   Moth To A Flame (with The Weeknd)      0.002700   \n",
       "339                  Moth To A Flame (with The Weeknd)      0.002700   \n",
       "163                             You See Big Girl / T:T      0.007560   \n",
       "406                Kids in Love (feat. The Night Game)      0.399000   \n",
       "399                                   Love You Goodbye      0.092800   \n",
       "282                                             Kabira      0.481000   \n",
       "276                                       Daddy Issues      0.067800   \n",
       "286                                         Stargazing      0.003040   \n",
       "42                             The Tower (Bonus Track)      0.068700   \n",
       "\n",
       "     Danceability  Liveness  Loudness  Speechiness  Valence     Tempo  label  \n",
       "193         0.502    0.2170  0.873134       0.0364   0.2590  0.520154      1  \n",
       "410         0.392    0.1240  0.927715       0.0782   0.3590  0.726420      1  \n",
       "84          0.447    0.2430  0.790418       0.3230   0.2610  0.068701      1  \n",
       "214         0.472    0.0764  0.894542       0.0334   0.2400  0.285455      1  \n",
       "5           0.472    0.0764  0.894542       0.0334   0.2400  0.285455      1  \n",
       "285         0.551    0.1520  0.847968       0.0542   0.3870  0.210983      1  \n",
       "295         0.262    0.1250  0.833070       0.0484   0.2750  0.903097      1  \n",
       "155         0.440    0.2600  0.895332       0.0868   0.2030  0.699931      1  \n",
       "3           0.658    0.3250  0.872535       0.0309   0.3260  0.388000      1  \n",
       "326         0.553    0.1050  0.815394       0.0391   0.1050  0.429246      1  \n",
       "66          0.552    0.0892  0.654701       0.0401   0.1520  0.428322      1  \n",
       "12          0.553    0.1050  0.815394       0.0391   0.1050  0.429246      1  \n",
       "339         0.553    0.1050  0.815394       0.0391   0.1050  0.429246      1  \n",
       "163         0.186    0.1280  0.799352       0.0441   0.2270  0.203037      1  \n",
       "406         0.499    0.2080  0.891383       0.0348   0.3010  0.440965      1  \n",
       "399         0.546    0.1190  0.883702       0.0332   0.3610  0.517897      1  \n",
       "282         0.590    0.1920  0.827214       0.0271   0.1910  0.183733      1  \n",
       "276         0.588    0.1230  0.756400       0.0329   0.3370  0.190428      1  \n",
       "286         0.512    0.1200  0.801694       0.0298   0.3670  0.700209      1  \n",
       "42          0.125    0.0996  0.561744       0.0414   0.0299  0.273077      1  "
      ]
     },
     "execution_count": 33,
     "metadata": {},
     "output_type": "execute_result"
    }
   ],
   "source": [
    "songs[songs['label'] == 1].tail(20)"
   ]
  },
  {
   "cell_type": "code",
   "execution_count": 31,
   "metadata": {
    "colab": {
     "base_uri": "https://localhost:8080/",
     "height": 676
    },
    "id": "VXJoQseV_SzB",
    "outputId": "ee4d5082-e76e-40bc-a46b-ea2c2358760b"
   },
   "outputs": [
    {
     "data": {
      "text/html": [
       "<div>\n",
       "<style scoped>\n",
       "    .dataframe tbody tr th:only-of-type {\n",
       "        vertical-align: middle;\n",
       "    }\n",
       "\n",
       "    .dataframe tbody tr th {\n",
       "        vertical-align: top;\n",
       "    }\n",
       "\n",
       "    .dataframe thead th {\n",
       "        text-align: right;\n",
       "    }\n",
       "</style>\n",
       "<table border=\"1\" class=\"dataframe\">\n",
       "  <thead>\n",
       "    <tr style=\"text-align: right;\">\n",
       "      <th></th>\n",
       "      <th>Song</th>\n",
       "      <th>Acousticness</th>\n",
       "      <th>Danceability</th>\n",
       "      <th>Liveness</th>\n",
       "      <th>Loudness</th>\n",
       "      <th>Speechiness</th>\n",
       "      <th>Valence</th>\n",
       "      <th>Tempo</th>\n",
       "      <th>label</th>\n",
       "    </tr>\n",
       "  </thead>\n",
       "  <tbody>\n",
       "    <tr>\n",
       "      <th>70</th>\n",
       "      <td>Channa Mereya</td>\n",
       "      <td>0.23700</td>\n",
       "      <td>0.476</td>\n",
       "      <td>0.1060</td>\n",
       "      <td>0.882776</td>\n",
       "      <td>0.0446</td>\n",
       "      <td>0.746</td>\n",
       "      <td>0.224782</td>\n",
       "      <td>2</td>\n",
       "    </tr>\n",
       "    <tr>\n",
       "      <th>245</th>\n",
       "      <td>On the Run</td>\n",
       "      <td>0.08320</td>\n",
       "      <td>0.479</td>\n",
       "      <td>0.1100</td>\n",
       "      <td>0.774240</td>\n",
       "      <td>0.0318</td>\n",
       "      <td>0.669</td>\n",
       "      <td>0.462010</td>\n",
       "      <td>2</td>\n",
       "    </tr>\n",
       "    <tr>\n",
       "      <th>237</th>\n",
       "      <td>Nachthimmel</td>\n",
       "      <td>0.35000</td>\n",
       "      <td>0.825</td>\n",
       "      <td>0.1110</td>\n",
       "      <td>0.715601</td>\n",
       "      <td>0.0445</td>\n",
       "      <td>0.314</td>\n",
       "      <td>0.326192</td>\n",
       "      <td>2</td>\n",
       "    </tr>\n",
       "    <tr>\n",
       "      <th>120</th>\n",
       "      <td>First Class</td>\n",
       "      <td>0.02540</td>\n",
       "      <td>0.905</td>\n",
       "      <td>0.1130</td>\n",
       "      <td>0.846988</td>\n",
       "      <td>0.1020</td>\n",
       "      <td>0.324</td>\n",
       "      <td>0.339875</td>\n",
       "      <td>2</td>\n",
       "    </tr>\n",
       "    <tr>\n",
       "      <th>420</th>\n",
       "      <td>Love You Like A Love Song</td>\n",
       "      <td>0.07610</td>\n",
       "      <td>0.858</td>\n",
       "      <td>0.0741</td>\n",
       "      <td>0.908677</td>\n",
       "      <td>0.0469</td>\n",
       "      <td>0.922</td>\n",
       "      <td>0.407923</td>\n",
       "      <td>2</td>\n",
       "    </tr>\n",
       "    <tr>\n",
       "      <th>348</th>\n",
       "      <td>The Way I Am</td>\n",
       "      <td>0.18100</td>\n",
       "      <td>0.731</td>\n",
       "      <td>0.3190</td>\n",
       "      <td>0.837264</td>\n",
       "      <td>0.1000</td>\n",
       "      <td>0.765</td>\n",
       "      <td>0.392629</td>\n",
       "      <td>2</td>\n",
       "    </tr>\n",
       "    <tr>\n",
       "      <th>446</th>\n",
       "      <td>I Love You So</td>\n",
       "      <td>0.58300</td>\n",
       "      <td>0.575</td>\n",
       "      <td>0.1150</td>\n",
       "      <td>0.880869</td>\n",
       "      <td>0.0358</td>\n",
       "      <td>0.466</td>\n",
       "      <td>0.129014</td>\n",
       "      <td>2</td>\n",
       "    </tr>\n",
       "    <tr>\n",
       "      <th>408</th>\n",
       "      <td>Love Is The Answer</td>\n",
       "      <td>0.13700</td>\n",
       "      <td>0.393</td>\n",
       "      <td>0.1340</td>\n",
       "      <td>0.631877</td>\n",
       "      <td>0.0428</td>\n",
       "      <td>0.624</td>\n",
       "      <td>0.987656</td>\n",
       "      <td>2</td>\n",
       "    </tr>\n",
       "    <tr>\n",
       "      <th>315</th>\n",
       "      <td>Stronger</td>\n",
       "      <td>0.00564</td>\n",
       "      <td>0.617</td>\n",
       "      <td>0.4080</td>\n",
       "      <td>0.800060</td>\n",
       "      <td>0.1530</td>\n",
       "      <td>0.490</td>\n",
       "      <td>0.319442</td>\n",
       "      <td>2</td>\n",
       "    </tr>\n",
       "    <tr>\n",
       "      <th>277</th>\n",
       "      <td>From the Grave</td>\n",
       "      <td>0.00137</td>\n",
       "      <td>0.585</td>\n",
       "      <td>0.8720</td>\n",
       "      <td>0.895713</td>\n",
       "      <td>0.1620</td>\n",
       "      <td>0.505</td>\n",
       "      <td>0.523879</td>\n",
       "      <td>2</td>\n",
       "    </tr>\n",
       "    <tr>\n",
       "      <th>185</th>\n",
       "      <td>Rescue Me</td>\n",
       "      <td>0.15700</td>\n",
       "      <td>0.761</td>\n",
       "      <td>0.5740</td>\n",
       "      <td>0.803219</td>\n",
       "      <td>0.0424</td>\n",
       "      <td>0.646</td>\n",
       "      <td>0.435310</td>\n",
       "      <td>2</td>\n",
       "    </tr>\n",
       "    <tr>\n",
       "      <th>306</th>\n",
       "      <td>Rock Bottom</td>\n",
       "      <td>0.31300</td>\n",
       "      <td>0.611</td>\n",
       "      <td>0.0530</td>\n",
       "      <td>0.876920</td>\n",
       "      <td>0.0603</td>\n",
       "      <td>0.724</td>\n",
       "      <td>0.686336</td>\n",
       "      <td>2</td>\n",
       "    </tr>\n",
       "    <tr>\n",
       "      <th>353</th>\n",
       "      <td>Monster</td>\n",
       "      <td>0.04310</td>\n",
       "      <td>0.640</td>\n",
       "      <td>0.0789</td>\n",
       "      <td>0.950458</td>\n",
       "      <td>0.0741</td>\n",
       "      <td>0.692</td>\n",
       "      <td>0.530160</td>\n",
       "      <td>2</td>\n",
       "    </tr>\n",
       "    <tr>\n",
       "      <th>176</th>\n",
       "      <td>Wild Life</td>\n",
       "      <td>0.28900</td>\n",
       "      <td>0.534</td>\n",
       "      <td>0.2830</td>\n",
       "      <td>0.578385</td>\n",
       "      <td>0.0374</td>\n",
       "      <td>0.653</td>\n",
       "      <td>0.573459</td>\n",
       "      <td>2</td>\n",
       "    </tr>\n",
       "    <tr>\n",
       "      <th>307</th>\n",
       "      <td>No Love</td>\n",
       "      <td>0.17000</td>\n",
       "      <td>0.707</td>\n",
       "      <td>0.2930</td>\n",
       "      <td>0.855431</td>\n",
       "      <td>0.1900</td>\n",
       "      <td>0.517</td>\n",
       "      <td>0.522574</td>\n",
       "      <td>2</td>\n",
       "    </tr>\n",
       "    <tr>\n",
       "      <th>98</th>\n",
       "      <td>Bolna</td>\n",
       "      <td>0.59800</td>\n",
       "      <td>0.488</td>\n",
       "      <td>0.4340</td>\n",
       "      <td>0.823292</td>\n",
       "      <td>0.0272</td>\n",
       "      <td>0.497</td>\n",
       "      <td>0.506349</td>\n",
       "      <td>2</td>\n",
       "    </tr>\n",
       "    <tr>\n",
       "      <th>330</th>\n",
       "      <td>Sham</td>\n",
       "      <td>0.31500</td>\n",
       "      <td>0.699</td>\n",
       "      <td>0.0803</td>\n",
       "      <td>0.800877</td>\n",
       "      <td>0.4750</td>\n",
       "      <td>0.565</td>\n",
       "      <td>0.591322</td>\n",
       "      <td>2</td>\n",
       "    </tr>\n",
       "    <tr>\n",
       "      <th>278</th>\n",
       "      <td>Overpass Graffiti</td>\n",
       "      <td>0.00253</td>\n",
       "      <td>0.520</td>\n",
       "      <td>0.1190</td>\n",
       "      <td>0.910747</td>\n",
       "      <td>0.1860</td>\n",
       "      <td>0.774</td>\n",
       "      <td>0.808281</td>\n",
       "      <td>2</td>\n",
       "    </tr>\n",
       "    <tr>\n",
       "      <th>321</th>\n",
       "      <td>Maahi Ve</td>\n",
       "      <td>0.02970</td>\n",
       "      <td>0.815</td>\n",
       "      <td>0.3300</td>\n",
       "      <td>0.847478</td>\n",
       "      <td>0.0769</td>\n",
       "      <td>0.563</td>\n",
       "      <td>0.292232</td>\n",
       "      <td>2</td>\n",
       "    </tr>\n",
       "    <tr>\n",
       "      <th>438</th>\n",
       "      <td>Come on Love</td>\n",
       "      <td>0.00017</td>\n",
       "      <td>0.348</td>\n",
       "      <td>0.1760</td>\n",
       "      <td>0.849766</td>\n",
       "      <td>0.0433</td>\n",
       "      <td>0.892</td>\n",
       "      <td>0.593892</td>\n",
       "      <td>2</td>\n",
       "    </tr>\n",
       "  </tbody>\n",
       "</table>\n",
       "</div>"
      ],
      "text/plain": [
       "                          Song  Acousticness  Danceability  Liveness  \\\n",
       "70               Channa Mereya       0.23700         0.476    0.1060   \n",
       "245                 On the Run       0.08320         0.479    0.1100   \n",
       "237                Nachthimmel       0.35000         0.825    0.1110   \n",
       "120                First Class       0.02540         0.905    0.1130   \n",
       "420  Love You Like A Love Song       0.07610         0.858    0.0741   \n",
       "348               The Way I Am       0.18100         0.731    0.3190   \n",
       "446              I Love You So       0.58300         0.575    0.1150   \n",
       "408         Love Is The Answer       0.13700         0.393    0.1340   \n",
       "315                   Stronger       0.00564         0.617    0.4080   \n",
       "277             From the Grave       0.00137         0.585    0.8720   \n",
       "185                  Rescue Me       0.15700         0.761    0.5740   \n",
       "306                Rock Bottom       0.31300         0.611    0.0530   \n",
       "353                    Monster       0.04310         0.640    0.0789   \n",
       "176                  Wild Life       0.28900         0.534    0.2830   \n",
       "307                    No Love       0.17000         0.707    0.2930   \n",
       "98                       Bolna       0.59800         0.488    0.4340   \n",
       "330                       Sham       0.31500         0.699    0.0803   \n",
       "278          Overpass Graffiti       0.00253         0.520    0.1190   \n",
       "321                   Maahi Ve       0.02970         0.815    0.3300   \n",
       "438               Come on Love       0.00017         0.348    0.1760   \n",
       "\n",
       "     Loudness  Speechiness  Valence     Tempo  label  \n",
       "70   0.882776       0.0446    0.746  0.224782      2  \n",
       "245  0.774240       0.0318    0.669  0.462010      2  \n",
       "237  0.715601       0.0445    0.314  0.326192      2  \n",
       "120  0.846988       0.1020    0.324  0.339875      2  \n",
       "420  0.908677       0.0469    0.922  0.407923      2  \n",
       "348  0.837264       0.1000    0.765  0.392629      2  \n",
       "446  0.880869       0.0358    0.466  0.129014      2  \n",
       "408  0.631877       0.0428    0.624  0.987656      2  \n",
       "315  0.800060       0.1530    0.490  0.319442      2  \n",
       "277  0.895713       0.1620    0.505  0.523879      2  \n",
       "185  0.803219       0.0424    0.646  0.435310      2  \n",
       "306  0.876920       0.0603    0.724  0.686336      2  \n",
       "353  0.950458       0.0741    0.692  0.530160      2  \n",
       "176  0.578385       0.0374    0.653  0.573459      2  \n",
       "307  0.855431       0.1900    0.517  0.522574      2  \n",
       "98   0.823292       0.0272    0.497  0.506349      2  \n",
       "330  0.800877       0.4750    0.565  0.591322      2  \n",
       "278  0.910747       0.1860    0.774  0.808281      2  \n",
       "321  0.847478       0.0769    0.563  0.292232      2  \n",
       "438  0.849766       0.0433    0.892  0.593892      2  "
      ]
     },
     "execution_count": 31,
     "metadata": {},
     "output_type": "execute_result"
    }
   ],
   "source": [
    "songs[songs['label'] == 2].head(20)"
   ]
  },
  {
   "cell_type": "markdown",
   "metadata": {},
   "source": [
    "##### Mood 1 - Sad; Mood 2 - Happy; Mood 3 - Romantic"
   ]
  },
  {
   "cell_type": "markdown",
   "metadata": {},
   "source": [
    "### Predicting mood labels using RFC"
   ]
  },
  {
   "cell_type": "code",
   "execution_count": 28,
   "metadata": {
    "colab": {
     "base_uri": "https://localhost:8080/"
    },
    "id": "L4XcpndKf0ze",
    "outputId": "25f3e2d1-4e26-41ed-b8a1-bee0889e4beb"
   },
   "outputs": [
    {
     "data": {
      "text/html": [
       "<style>#sk-container-id-2 {color: black;background-color: white;}#sk-container-id-2 pre{padding: 0;}#sk-container-id-2 div.sk-toggleable {background-color: white;}#sk-container-id-2 label.sk-toggleable__label {cursor: pointer;display: block;width: 100%;margin-bottom: 0;padding: 0.3em;box-sizing: border-box;text-align: center;}#sk-container-id-2 label.sk-toggleable__label-arrow:before {content: \"▸\";float: left;margin-right: 0.25em;color: #696969;}#sk-container-id-2 label.sk-toggleable__label-arrow:hover:before {color: black;}#sk-container-id-2 div.sk-estimator:hover label.sk-toggleable__label-arrow:before {color: black;}#sk-container-id-2 div.sk-toggleable__content {max-height: 0;max-width: 0;overflow: hidden;text-align: left;background-color: #f0f8ff;}#sk-container-id-2 div.sk-toggleable__content pre {margin: 0.2em;color: black;border-radius: 0.25em;background-color: #f0f8ff;}#sk-container-id-2 input.sk-toggleable__control:checked~div.sk-toggleable__content {max-height: 200px;max-width: 100%;overflow: auto;}#sk-container-id-2 input.sk-toggleable__control:checked~label.sk-toggleable__label-arrow:before {content: \"▾\";}#sk-container-id-2 div.sk-estimator input.sk-toggleable__control:checked~label.sk-toggleable__label {background-color: #d4ebff;}#sk-container-id-2 div.sk-label input.sk-toggleable__control:checked~label.sk-toggleable__label {background-color: #d4ebff;}#sk-container-id-2 input.sk-hidden--visually {border: 0;clip: rect(1px 1px 1px 1px);clip: rect(1px, 1px, 1px, 1px);height: 1px;margin: -1px;overflow: hidden;padding: 0;position: absolute;width: 1px;}#sk-container-id-2 div.sk-estimator {font-family: monospace;background-color: #f0f8ff;border: 1px dotted black;border-radius: 0.25em;box-sizing: border-box;margin-bottom: 0.5em;}#sk-container-id-2 div.sk-estimator:hover {background-color: #d4ebff;}#sk-container-id-2 div.sk-parallel-item::after {content: \"\";width: 100%;border-bottom: 1px solid gray;flex-grow: 1;}#sk-container-id-2 div.sk-label:hover label.sk-toggleable__label {background-color: #d4ebff;}#sk-container-id-2 div.sk-serial::before {content: \"\";position: absolute;border-left: 1px solid gray;box-sizing: border-box;top: 0;bottom: 0;left: 50%;z-index: 0;}#sk-container-id-2 div.sk-serial {display: flex;flex-direction: column;align-items: center;background-color: white;padding-right: 0.2em;padding-left: 0.2em;position: relative;}#sk-container-id-2 div.sk-item {position: relative;z-index: 1;}#sk-container-id-2 div.sk-parallel {display: flex;align-items: stretch;justify-content: center;background-color: white;position: relative;}#sk-container-id-2 div.sk-item::before, #sk-container-id-2 div.sk-parallel-item::before {content: \"\";position: absolute;border-left: 1px solid gray;box-sizing: border-box;top: 0;bottom: 0;left: 50%;z-index: -1;}#sk-container-id-2 div.sk-parallel-item {display: flex;flex-direction: column;z-index: 1;position: relative;background-color: white;}#sk-container-id-2 div.sk-parallel-item:first-child::after {align-self: flex-end;width: 50%;}#sk-container-id-2 div.sk-parallel-item:last-child::after {align-self: flex-start;width: 50%;}#sk-container-id-2 div.sk-parallel-item:only-child::after {width: 0;}#sk-container-id-2 div.sk-dashed-wrapped {border: 1px dashed gray;margin: 0 0.4em 0.5em 0.4em;box-sizing: border-box;padding-bottom: 0.4em;background-color: white;}#sk-container-id-2 div.sk-label label {font-family: monospace;font-weight: bold;display: inline-block;line-height: 1.2em;}#sk-container-id-2 div.sk-label-container {text-align: center;}#sk-container-id-2 div.sk-container {/* jupyter's `normalize.less` sets `[hidden] { display: none; }` but bootstrap.min.css set `[hidden] { display: none !important; }` so we also need the `!important` here to be able to override the default hidden behavior on the sphinx rendered scikit-learn.org. See: https://github.com/scikit-learn/scikit-learn/issues/21755 */display: inline-block !important;position: relative;}#sk-container-id-2 div.sk-text-repr-fallback {display: none;}</style><div id=\"sk-container-id-2\" class=\"sk-top-container\"><div class=\"sk-text-repr-fallback\"><pre>RandomForestClassifier()</pre><b>In a Jupyter environment, please rerun this cell to show the HTML representation or trust the notebook. <br />On GitHub, the HTML representation is unable to render, please try loading this page with nbviewer.org.</b></div><div class=\"sk-container\" hidden><div class=\"sk-item\"><div class=\"sk-estimator sk-toggleable\"><input class=\"sk-toggleable__control sk-hidden--visually\" id=\"sk-estimator-id-2\" type=\"checkbox\" checked><label for=\"sk-estimator-id-2\" class=\"sk-toggleable__label sk-toggleable__label-arrow\">RandomForestClassifier</label><div class=\"sk-toggleable__content\"><pre>RandomForestClassifier()</pre></div></div></div></div></div>"
      ],
      "text/plain": [
       "RandomForestClassifier()"
      ]
     },
     "execution_count": 28,
     "metadata": {},
     "output_type": "execute_result"
    }
   ],
   "source": [
    "from sklearn.ensemble import RandomForestClassifier\n",
    "from sklearn.model_selection import train_test_split\n",
    "from sklearn.model_selection import cross_val_score\n",
    "from sklearn.metrics import classification_report, confusion_matrix\n",
    "from sklearn.utils.multiclass import unique_labels\n",
    "\n",
    "X = song_features\n",
    "y = y_kmeans\n",
    "\n",
    "X_train, X_test, y_train, y_test = train_test_split(X, y, test_size=0.33)\n",
    "\n",
    "rfc = RandomForestClassifier(n_estimators=100,criterion='gini')\n",
    "rfc.fit(X_train,y_train)"
   ]
  },
  {
   "cell_type": "code",
   "execution_count": 29,
   "metadata": {
    "id": "ui09oYNjgobL"
   },
   "outputs": [],
   "source": [
    "y_pred = rfc.predict(X_test)"
   ]
  },
  {
   "cell_type": "code",
   "execution_count": 34,
   "metadata": {
    "colab": {
     "base_uri": "https://localhost:8080/"
    },
    "id": "_jRU7tklidhW",
    "outputId": "bb290364-c458-436d-fb8f-190bf4b08035"
   },
   "outputs": [
    {
     "name": "stdout",
     "output_type": "stream",
     "text": [
      "Predicted Mood  Energetic  Romantic  Sad\n",
      "Actual Mood                             \n",
      "Energetic              29         1    0\n",
      "Romantic                3        61    2\n",
      "Sad                     1         0   57\n",
      "[[57  1  0]\n",
      " [ 0 29  1]\n",
      " [ 2  3 61]]\n"
     ]
    }
   ],
   "source": [
    "import numpy as np\n",
    "definitions = ['Sad','Energetic','Romantic']\n",
    "reversefactor = dict(zip(range(4),definitions))\n",
    "actual = np.vectorize(reversefactor.get)(y_test)\n",
    "pred = np.vectorize(reversefactor.get)(y_pred)\n",
    "print(pd.crosstab(actual, pred, rownames=['Actual Mood'], colnames=['Predicted Mood']))\n",
    "cm = confusion_matrix(y_test, y_pred)\n",
    "print(cm)"
   ]
  },
  {
   "cell_type": "markdown",
   "metadata": {},
   "source": [
    "### Exporting and testing the model"
   ]
  },
  {
   "cell_type": "code",
   "execution_count": 37,
   "metadata": {
    "colab": {
     "base_uri": "https://localhost:8080/"
    },
    "id": "OQnT27YzZMik",
    "outputId": "a64cf309-52a7-475a-8d31-dbae3b0362b2"
   },
   "outputs": [
    {
     "name": "stdout",
     "output_type": "stream",
     "text": [
      "Mounted at /content/gdrive\n"
     ]
    }
   ],
   "source": [
    "from google.colab import drive\n",
    "drive.mount(\"/content/gdrive\")"
   ]
  },
  {
   "cell_type": "code",
   "execution_count": 39,
   "metadata": {
    "id": "MkyYgK9gZ_U5"
   },
   "outputs": [],
   "source": [
    "import pickle\n",
    "filename = 'finalized_model.sav'\n",
    "pickle.dump(rfc, open(filename, 'wb'))"
   ]
  },
  {
   "cell_type": "code",
   "execution_count": 35,
   "metadata": {
    "id": "ofr_xR3Ybjll"
   },
   "outputs": [],
   "source": [
    "song = getAudioFeatures(getAudioID(\"Tum Se Hi\"))\n",
    "#expected output: romantic"
   ]
  },
  {
   "cell_type": "code",
   "execution_count": 36,
   "metadata": {
    "id": "xNpx1jiPcva2"
   },
   "outputs": [],
   "source": [
    "acousticness = [song.get('acousticness')]\n",
    "danceability = [song.get('danceability')]\n",
    "liveness = [song.get('liveness')]\n",
    "loudness = [song.get('loudness')]\n",
    "speechiness = [song.get('speechiness')]\n",
    "valence = [song.get('valence')]"
   ]
  },
  {
   "cell_type": "code",
   "execution_count": 37,
   "metadata": {
    "id": "wWIn1D2BdYJf"
   },
   "outputs": [],
   "source": [
    "newSong = pd.DataFrame(list(zip(acousticness, danceability, liveness, loudness, speechiness, valence)), columns=['Acousticness', 'Danceability', 'Liveness', 'Loudness', 'Speechiness', 'Valence'])"
   ]
  },
  {
   "cell_type": "code",
   "execution_count": 38,
   "metadata": {
    "id": "A-flxjHgd9Pt"
   },
   "outputs": [],
   "source": [
    "y_pred = rfc.predict(newSong)\n",
    "definitionsSong = ['Energetic','Romantic','Sad']\n",
    "reversefactorSong = dict(zip(range(4),definitions))\n",
    "predSong = np.vectorize(reversefactor.get)(y_pred)"
   ]
  },
  {
   "cell_type": "code",
   "execution_count": 39,
   "metadata": {
    "colab": {
     "base_uri": "https://localhost:8080/"
    },
    "id": "dEl-UBNheDEO",
    "outputId": "42d091b4-951d-40c9-cca3-f84d484daa08"
   },
   "outputs": [
    {
     "data": {
      "text/plain": [
       "array(['Romantic'], dtype='<U8')"
      ]
     },
     "execution_count": 39,
     "metadata": {},
     "output_type": "execute_result"
    }
   ],
   "source": [
    "predSong"
   ]
  },
  {
   "cell_type": "code",
   "execution_count": 40,
   "metadata": {
    "colab": {
     "base_uri": "https://localhost:8080/",
     "height": 81
    },
    "id": "3GWO0_T_eNh5",
    "outputId": "efcbf8d3-3b98-4f93-f380-997e6b984003"
   },
   "outputs": [
    {
     "data": {
      "text/html": [
       "<div>\n",
       "<style scoped>\n",
       "    .dataframe tbody tr th:only-of-type {\n",
       "        vertical-align: middle;\n",
       "    }\n",
       "\n",
       "    .dataframe tbody tr th {\n",
       "        vertical-align: top;\n",
       "    }\n",
       "\n",
       "    .dataframe thead th {\n",
       "        text-align: right;\n",
       "    }\n",
       "</style>\n",
       "<table border=\"1\" class=\"dataframe\">\n",
       "  <thead>\n",
       "    <tr style=\"text-align: right;\">\n",
       "      <th></th>\n",
       "      <th>Acousticness</th>\n",
       "      <th>Danceability</th>\n",
       "      <th>Liveness</th>\n",
       "      <th>Loudness</th>\n",
       "      <th>Speechiness</th>\n",
       "      <th>Valence</th>\n",
       "    </tr>\n",
       "  </thead>\n",
       "  <tbody>\n",
       "    <tr>\n",
       "      <th>0</th>\n",
       "      <td>0.328</td>\n",
       "      <td>0.609</td>\n",
       "      <td>0.125</td>\n",
       "      <td>-7.842</td>\n",
       "      <td>0.0273</td>\n",
       "      <td>0.608</td>\n",
       "    </tr>\n",
       "  </tbody>\n",
       "</table>\n",
       "</div>"
      ],
      "text/plain": [
       "   Acousticness  Danceability  Liveness  Loudness  Speechiness  Valence\n",
       "0         0.328         0.609     0.125    -7.842       0.0273    0.608"
      ]
     },
     "execution_count": 40,
     "metadata": {},
     "output_type": "execute_result"
    }
   ],
   "source": [
    "newSong"
   ]
  }
 ],
 "metadata": {
  "colab": {
   "collapsed_sections": [],
   "name": "spotilyserMood.ipynb",
   "provenance": []
  },
  "kernelspec": {
   "display_name": "Python 3 (ipykernel)",
   "language": "python",
   "name": "python3"
  },
  "language_info": {
   "codemirror_mode": {
    "name": "ipython",
    "version": 3
   },
   "file_extension": ".py",
   "mimetype": "text/x-python",
   "name": "python",
   "nbconvert_exporter": "python",
   "pygments_lexer": "ipython3",
   "version": "3.10.5"
  },
  "vscode": {
   "interpreter": {
    "hash": "027efd7095115064582efab50921964d678032cf36f1ec215c675cf4ffc5e6b9"
   }
  }
 },
 "nbformat": 4,
 "nbformat_minor": 1
}
